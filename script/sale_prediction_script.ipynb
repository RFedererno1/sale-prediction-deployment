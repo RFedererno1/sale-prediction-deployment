{
 "cells": [
  {
   "cell_type": "code",
   "execution_count": 1,
   "metadata": {},
   "outputs": [],
   "source": [
    "from itertools import product\n",
    "import pandas as pd\n",
    "import numpy as np\n",
    "import matplotlib.pyplot as plt\n",
    "import seaborn as sns\n",
    "import cupy as cp\n",
    "import warnings\n",
    "warnings.simplefilter(action='ignore', category=FutureWarning)"
   ]
  },
  {
   "cell_type": "markdown",
   "metadata": {},
   "source": [
    "### Load train, test, items, item_categories, shops files."
   ]
  },
  {
   "cell_type": "code",
   "execution_count": 2,
   "metadata": {},
   "outputs": [],
   "source": [
    "train_data = pd.read_csv('train.csv', index_col=0)\n",
    "test_data = pd.read_csv('test.csv')\n",
    "items_df = pd.read_csv('items.csv')\n",
    "item_cat_df = pd.read_csv('item_categories.csv')\n",
    "shops_df = pd.read_csv('shops.csv')"
   ]
  },
  {
   "cell_type": "markdown",
   "metadata": {},
   "source": [
    "### Data analysis"
   ]
  },
  {
   "cell_type": "code",
   "execution_count": 3,
   "metadata": {},
   "outputs": [
    {
     "data": {
      "text/html": [
       "<div>\n",
       "<style scoped>\n",
       "    .dataframe tbody tr th:only-of-type {\n",
       "        vertical-align: middle;\n",
       "    }\n",
       "\n",
       "    .dataframe tbody tr th {\n",
       "        vertical-align: top;\n",
       "    }\n",
       "\n",
       "    .dataframe thead th {\n",
       "        text-align: right;\n",
       "    }\n",
       "</style>\n",
       "<table border=\"1\" class=\"dataframe\">\n",
       "  <thead>\n",
       "    <tr style=\"text-align: right;\">\n",
       "      <th></th>\n",
       "      <th>date</th>\n",
       "      <th>date_block_num</th>\n",
       "      <th>shop_id</th>\n",
       "      <th>item_id</th>\n",
       "      <th>item_price</th>\n",
       "      <th>item_cnt_day</th>\n",
       "      <th>item_category_id</th>\n",
       "    </tr>\n",
       "  </thead>\n",
       "  <tbody>\n",
       "    <tr>\n",
       "      <th>0</th>\n",
       "      <td>02.01.2013</td>\n",
       "      <td>0</td>\n",
       "      <td>59</td>\n",
       "      <td>22154</td>\n",
       "      <td>999.00</td>\n",
       "      <td>1.0</td>\n",
       "      <td>37</td>\n",
       "    </tr>\n",
       "    <tr>\n",
       "      <th>1</th>\n",
       "      <td>03.01.2013</td>\n",
       "      <td>0</td>\n",
       "      <td>25</td>\n",
       "      <td>2552</td>\n",
       "      <td>899.00</td>\n",
       "      <td>1.0</td>\n",
       "      <td>58</td>\n",
       "    </tr>\n",
       "    <tr>\n",
       "      <th>2</th>\n",
       "      <td>05.01.2013</td>\n",
       "      <td>0</td>\n",
       "      <td>25</td>\n",
       "      <td>2552</td>\n",
       "      <td>899.00</td>\n",
       "      <td>-1.0</td>\n",
       "      <td>58</td>\n",
       "    </tr>\n",
       "    <tr>\n",
       "      <th>3</th>\n",
       "      <td>06.01.2013</td>\n",
       "      <td>0</td>\n",
       "      <td>25</td>\n",
       "      <td>2554</td>\n",
       "      <td>1709.05</td>\n",
       "      <td>1.0</td>\n",
       "      <td>58</td>\n",
       "    </tr>\n",
       "    <tr>\n",
       "      <th>4</th>\n",
       "      <td>15.01.2013</td>\n",
       "      <td>0</td>\n",
       "      <td>25</td>\n",
       "      <td>2555</td>\n",
       "      <td>1099.00</td>\n",
       "      <td>1.0</td>\n",
       "      <td>56</td>\n",
       "    </tr>\n",
       "  </tbody>\n",
       "</table>\n",
       "</div>"
      ],
      "text/plain": [
       "         date  date_block_num  shop_id  item_id  item_price  item_cnt_day  \\\n",
       "0  02.01.2013               0       59    22154      999.00           1.0   \n",
       "1  03.01.2013               0       25     2552      899.00           1.0   \n",
       "2  05.01.2013               0       25     2552      899.00          -1.0   \n",
       "3  06.01.2013               0       25     2554     1709.05           1.0   \n",
       "4  15.01.2013               0       25     2555     1099.00           1.0   \n",
       "\n",
       "   item_category_id  \n",
       "0                37  \n",
       "1                58  \n",
       "2                58  \n",
       "3                58  \n",
       "4                56  "
      ]
     },
     "execution_count": 3,
     "metadata": {},
     "output_type": "execute_result"
    }
   ],
   "source": [
    "train_data.head()"
   ]
  },
  {
   "cell_type": "code",
   "execution_count": 4,
   "metadata": {},
   "outputs": [
    {
     "data": {
      "text/html": [
       "<div>\n",
       "<style scoped>\n",
       "    .dataframe tbody tr th:only-of-type {\n",
       "        vertical-align: middle;\n",
       "    }\n",
       "\n",
       "    .dataframe tbody tr th {\n",
       "        vertical-align: top;\n",
       "    }\n",
       "\n",
       "    .dataframe thead th {\n",
       "        text-align: right;\n",
       "    }\n",
       "</style>\n",
       "<table border=\"1\" class=\"dataframe\">\n",
       "  <thead>\n",
       "    <tr style=\"text-align: right;\">\n",
       "      <th></th>\n",
       "      <th>date_block_num</th>\n",
       "      <th>shop_id</th>\n",
       "      <th>item_id</th>\n",
       "      <th>item_price</th>\n",
       "      <th>item_cnt_day</th>\n",
       "      <th>item_category_id</th>\n",
       "    </tr>\n",
       "  </thead>\n",
       "  <tbody>\n",
       "    <tr>\n",
       "      <th>count</th>\n",
       "      <td>2.935849e+06</td>\n",
       "      <td>2.935849e+06</td>\n",
       "      <td>2.935849e+06</td>\n",
       "      <td>2.935849e+06</td>\n",
       "      <td>2.935849e+06</td>\n",
       "      <td>2.935849e+06</td>\n",
       "    </tr>\n",
       "    <tr>\n",
       "      <th>mean</th>\n",
       "      <td>1.456991e+01</td>\n",
       "      <td>3.300173e+01</td>\n",
       "      <td>1.019723e+04</td>\n",
       "      <td>8.908532e+02</td>\n",
       "      <td>1.242641e+00</td>\n",
       "      <td>4.000138e+01</td>\n",
       "    </tr>\n",
       "    <tr>\n",
       "      <th>std</th>\n",
       "      <td>9.422988e+00</td>\n",
       "      <td>1.622697e+01</td>\n",
       "      <td>6.324297e+03</td>\n",
       "      <td>1.729800e+03</td>\n",
       "      <td>2.618834e+00</td>\n",
       "      <td>1.710076e+01</td>\n",
       "    </tr>\n",
       "    <tr>\n",
       "      <th>min</th>\n",
       "      <td>0.000000e+00</td>\n",
       "      <td>0.000000e+00</td>\n",
       "      <td>0.000000e+00</td>\n",
       "      <td>-1.000000e+00</td>\n",
       "      <td>-2.200000e+01</td>\n",
       "      <td>0.000000e+00</td>\n",
       "    </tr>\n",
       "    <tr>\n",
       "      <th>25%</th>\n",
       "      <td>7.000000e+00</td>\n",
       "      <td>2.200000e+01</td>\n",
       "      <td>4.476000e+03</td>\n",
       "      <td>2.490000e+02</td>\n",
       "      <td>1.000000e+00</td>\n",
       "      <td>2.800000e+01</td>\n",
       "    </tr>\n",
       "    <tr>\n",
       "      <th>50%</th>\n",
       "      <td>1.400000e+01</td>\n",
       "      <td>3.100000e+01</td>\n",
       "      <td>9.343000e+03</td>\n",
       "      <td>3.990000e+02</td>\n",
       "      <td>1.000000e+00</td>\n",
       "      <td>4.000000e+01</td>\n",
       "    </tr>\n",
       "    <tr>\n",
       "      <th>75%</th>\n",
       "      <td>2.300000e+01</td>\n",
       "      <td>4.700000e+01</td>\n",
       "      <td>1.568400e+04</td>\n",
       "      <td>9.990000e+02</td>\n",
       "      <td>1.000000e+00</td>\n",
       "      <td>5.500000e+01</td>\n",
       "    </tr>\n",
       "    <tr>\n",
       "      <th>max</th>\n",
       "      <td>3.300000e+01</td>\n",
       "      <td>5.900000e+01</td>\n",
       "      <td>2.216900e+04</td>\n",
       "      <td>3.079800e+05</td>\n",
       "      <td>2.169000e+03</td>\n",
       "      <td>8.300000e+01</td>\n",
       "    </tr>\n",
       "  </tbody>\n",
       "</table>\n",
       "</div>"
      ],
      "text/plain": [
       "       date_block_num       shop_id       item_id    item_price  item_cnt_day  \\\n",
       "count    2.935849e+06  2.935849e+06  2.935849e+06  2.935849e+06  2.935849e+06   \n",
       "mean     1.456991e+01  3.300173e+01  1.019723e+04  8.908532e+02  1.242641e+00   \n",
       "std      9.422988e+00  1.622697e+01  6.324297e+03  1.729800e+03  2.618834e+00   \n",
       "min      0.000000e+00  0.000000e+00  0.000000e+00 -1.000000e+00 -2.200000e+01   \n",
       "25%      7.000000e+00  2.200000e+01  4.476000e+03  2.490000e+02  1.000000e+00   \n",
       "50%      1.400000e+01  3.100000e+01  9.343000e+03  3.990000e+02  1.000000e+00   \n",
       "75%      2.300000e+01  4.700000e+01  1.568400e+04  9.990000e+02  1.000000e+00   \n",
       "max      3.300000e+01  5.900000e+01  2.216900e+04  3.079800e+05  2.169000e+03   \n",
       "\n",
       "       item_category_id  \n",
       "count      2.935849e+06  \n",
       "mean       4.000138e+01  \n",
       "std        1.710076e+01  \n",
       "min        0.000000e+00  \n",
       "25%        2.800000e+01  \n",
       "50%        4.000000e+01  \n",
       "75%        5.500000e+01  \n",
       "max        8.300000e+01  "
      ]
     },
     "execution_count": 4,
     "metadata": {},
     "output_type": "execute_result"
    }
   ],
   "source": [
    "train_data.describe()"
   ]
  },
  {
   "cell_type": "markdown",
   "metadata": {},
   "source": [
    "In training data, we have negative item_price and negative item_cnt_day. We should investigate those values."
   ]
  },
  {
   "cell_type": "code",
   "execution_count": 5,
   "metadata": {},
   "outputs": [
    {
     "name": "stdout",
     "output_type": "stream",
     "text": [
      "         date  date_block_num  shop_id  item_id  item_price  item_cnt_day  \\\n",
      "0  15.05.2013               4       32     2973        -1.0           1.0   \n",
      "\n",
      "   item_category_id  \n",
      "0                19  \n",
      "1\n"
     ]
    }
   ],
   "source": [
    "# check negative item_price\n",
    "negative_prices = train_data[train_data['item_price'] <= 0].reset_index(drop=True)\n",
    "print(negative_prices)\n",
    "print(len(negative_prices))"
   ]
  },
  {
   "cell_type": "markdown",
   "metadata": {},
   "source": [
    "There is only 1 negative item_price, not too many rows so we can remove this record."
   ]
  },
  {
   "cell_type": "code",
   "execution_count": 6,
   "metadata": {},
   "outputs": [],
   "source": [
    "train_data = train_data[train_data['item_price'] > 0].reset_index(drop=True)"
   ]
  },
  {
   "cell_type": "code",
   "execution_count": 7,
   "metadata": {},
   "outputs": [
    {
     "name": "stdout",
     "output_type": "stream",
     "text": [
      "            date  date_block_num  shop_id  item_id  item_price  item_cnt_day  \\\n",
      "0     05.01.2013               0       25     2552       899.0          -1.0   \n",
      "1     23.01.2013               0       25     2321       999.0          -1.0   \n",
      "2     07.01.2013               0       25     2199      1449.0          -1.0   \n",
      "3     02.01.2013               0       25     2330       599.0          -1.0   \n",
      "4     13.01.2013               0       25     5034      1989.0          -1.0   \n",
      "...          ...             ...      ...      ...         ...           ...   \n",
      "7351  26.10.2015              33       25     3917       449.0          -1.0   \n",
      "7352  18.10.2015              33       25     4896      6398.0          -1.0   \n",
      "7353  05.10.2015              33       25    10039       249.0          -1.0   \n",
      "7354  16.10.2015              33       25     7893      2990.0          -1.0   \n",
      "7355  07.10.2015              33       25     7087       999.0          -1.0   \n",
      "\n",
      "      item_category_id  \n",
      "0                   58  \n",
      "1                   28  \n",
      "2                   58  \n",
      "3                   30  \n",
      "4                   23  \n",
      "...                ...  \n",
      "7351                55  \n",
      "7352                20  \n",
      "7353                37  \n",
      "7354                 6  \n",
      "7355                30  \n",
      "\n",
      "[7356 rows x 7 columns]\n",
      "7356\n"
     ]
    }
   ],
   "source": [
    "# check negative item_cnt_day\n",
    "negative_item_cnt = train_data[train_data['item_cnt_day'] < 0].reset_index(drop=True)\n",
    "print(negative_item_cnt)\n",
    "print(len(negative_item_cnt))"
   ]
  },
  {
   "cell_type": "markdown",
   "metadata": {},
   "source": [
    "There are lots of row with negative item_cnt_day, so we can not delete all of them. We can replace -1 with 0 as there is no sell at those days."
   ]
  },
  {
   "cell_type": "code",
   "execution_count": 8,
   "metadata": {},
   "outputs": [],
   "source": [
    "train_data.loc[train_data['item_cnt_day'] < 0, 'item_cnt_day'] = 0"
   ]
  },
  {
   "cell_type": "markdown",
   "metadata": {},
   "source": [
    "We should change datetime to dd/mm/yyyy"
   ]
  },
  {
   "cell_type": "code",
   "execution_count": 9,
   "metadata": {},
   "outputs": [],
   "source": [
    "train_data['date'] = pd.to_datetime(train_data['date'], format='%d.%m.%Y')"
   ]
  },
  {
   "cell_type": "markdown",
   "metadata": {},
   "source": [
    "We should check outliers in item_price and item_cnt_day."
   ]
  },
  {
   "cell_type": "code",
   "execution_count": 10,
   "metadata": {},
   "outputs": [
    {
     "data": {
      "text/plain": [
       "<Axes: ylabel='item_cnt_day'>"
      ]
     },
     "execution_count": 10,
     "metadata": {},
     "output_type": "execute_result"
    },
    {
     "data": {
      "image/png": "[encoded data removed]",
      "text/plain": [
       "<Figure size 200x400 with 1 Axes>"
      ]
     },
     "metadata": {},
     "output_type": "display_data"
    }
   ],
   "source": [
    "plt.figure(figsize = (2,4))\n",
    "sns.boxplot(y = train_data.item_cnt_day)"
   ]
  },
  {
   "cell_type": "markdown",
   "metadata": {},
   "source": [
    "We can see that there are outliers in this feature. We can remove records which item_cnt_day is greater than 1000."
   ]
  },
  {
   "cell_type": "code",
   "execution_count": 11,
   "metadata": {},
   "outputs": [
    {
     "name": "stdout",
     "output_type": "stream",
     "text": [
      "num of item_cnt_day >= 1000:  2\n",
      "              date  date_block_num  shop_id  item_id  item_price  \\\n",
      "2326929 2015-01-15              24       12    20949    4.000000   \n",
      "2909817 2015-10-28              33       12    11373    0.908714   \n",
      "\n",
      "         item_cnt_day  item_category_id  \n",
      "2326929        1000.0                71  \n",
      "2909817        2169.0                 9  \n"
     ]
    }
   ],
   "source": [
    "print('num of item_cnt_day >= 1000: ', len(train_data[train_data['item_cnt_day'] >= 1000]))\n",
    "print(train_data[train_data['item_cnt_day'] >= 1000])"
   ]
  },
  {
   "cell_type": "markdown",
   "metadata": {},
   "source": [
    "There are 2 outliers of item_cnt_day. We can remove those."
   ]
  },
  {
   "cell_type": "code",
   "execution_count": 12,
   "metadata": {},
   "outputs": [],
   "source": [
    "train_data = train_data[(train_data['item_cnt_day'] < 1000)]"
   ]
  },
  {
   "cell_type": "code",
   "execution_count": 13,
   "metadata": {},
   "outputs": [
    {
     "data": {
      "text/plain": [
       "<Axes: ylabel='item_price'>"
      ]
     },
     "execution_count": 13,
     "metadata": {},
     "output_type": "execute_result"
    },
    {
     "data": {
      "image/png": "[encoded data removed]",
      "text/plain": [
       "<Figure size 200x400 with 1 Axes>"
      ]
     },
     "metadata": {},
     "output_type": "display_data"
    }
   ],
   "source": [
    "plt.figure(figsize = (2,4))\n",
    "sns.boxplot(y = train_data.item_price)"
   ]
  },
  {
   "cell_type": "markdown",
   "metadata": {},
   "source": [
    "We can see that there are outliers in this feature. We can remove records which item_price is greater than 300000. Is this shop sell house?"
   ]
  },
  {
   "cell_type": "code",
   "execution_count": 14,
   "metadata": {},
   "outputs": [
    {
     "name": "stdout",
     "output_type": "stream",
     "text": [
      "num of item_price >= 300000:  1\n",
      "              date  date_block_num  shop_id  item_id  item_price  \\\n",
      "1163157 2013-12-13              11       12     6066    307980.0   \n",
      "\n",
      "         item_cnt_day  item_category_id  \n",
      "1163157           1.0                75  \n"
     ]
    }
   ],
   "source": [
    "print('num of item_price >= 300000: ', len(train_data[train_data['item_price'] >= 300000]))\n",
    "print(train_data[train_data['item_price'] >= 300000])"
   ]
  },
  {
   "cell_type": "markdown",
   "metadata": {},
   "source": [
    "There are 1 outlier of item_price. We can remove this."
   ]
  },
  {
   "cell_type": "code",
   "execution_count": 15,
   "metadata": {},
   "outputs": [],
   "source": [
    "train_data = train_data[train_data['item_price'] < 300000]"
   ]
  },
  {
   "cell_type": "markdown",
   "metadata": {},
   "source": [
    "We will check the test file."
   ]
  },
  {
   "cell_type": "code",
   "execution_count": 16,
   "metadata": {},
   "outputs": [
    {
     "data": {
      "text/html": [
       "<div>\n",
       "<style scoped>\n",
       "    .dataframe tbody tr th:only-of-type {\n",
       "        vertical-align: middle;\n",
       "    }\n",
       "\n",
       "    .dataframe tbody tr th {\n",
       "        vertical-align: top;\n",
       "    }\n",
       "\n",
       "    .dataframe thead th {\n",
       "        text-align: right;\n",
       "    }\n",
       "</style>\n",
       "<table border=\"1\" class=\"dataframe\">\n",
       "  <thead>\n",
       "    <tr style=\"text-align: right;\">\n",
       "      <th></th>\n",
       "      <th>ID</th>\n",
       "      <th>shop_id</th>\n",
       "      <th>item_id</th>\n",
       "      <th>item_cnt_month</th>\n",
       "    </tr>\n",
       "  </thead>\n",
       "  <tbody>\n",
       "    <tr>\n",
       "      <th>0</th>\n",
       "      <td>0</td>\n",
       "      <td>5</td>\n",
       "      <td>5037</td>\n",
       "      <td>0</td>\n",
       "    </tr>\n",
       "    <tr>\n",
       "      <th>1</th>\n",
       "      <td>1</td>\n",
       "      <td>5</td>\n",
       "      <td>5320</td>\n",
       "      <td>0</td>\n",
       "    </tr>\n",
       "    <tr>\n",
       "      <th>2</th>\n",
       "      <td>2</td>\n",
       "      <td>5</td>\n",
       "      <td>5233</td>\n",
       "      <td>0</td>\n",
       "    </tr>\n",
       "    <tr>\n",
       "      <th>3</th>\n",
       "      <td>3</td>\n",
       "      <td>5</td>\n",
       "      <td>5232</td>\n",
       "      <td>0</td>\n",
       "    </tr>\n",
       "    <tr>\n",
       "      <th>4</th>\n",
       "      <td>4</td>\n",
       "      <td>5</td>\n",
       "      <td>5268</td>\n",
       "      <td>0</td>\n",
       "    </tr>\n",
       "  </tbody>\n",
       "</table>\n",
       "</div>"
      ],
      "text/plain": [
       "   ID  shop_id  item_id  item_cnt_month\n",
       "0   0        5     5037               0\n",
       "1   1        5     5320               0\n",
       "2   2        5     5233               0\n",
       "3   3        5     5232               0\n",
       "4   4        5     5268               0"
      ]
     },
     "execution_count": 16,
     "metadata": {},
     "output_type": "execute_result"
    }
   ],
   "source": [
    "test_data.head()"
   ]
  },
  {
   "cell_type": "code",
   "execution_count": 17,
   "metadata": {},
   "outputs": [
    {
     "name": "stdout",
     "output_type": "stream",
     "text": [
      "number of item_id in test set 5100\n",
      "number of new item_id in test set 363\n",
      "number of item_id in shop_id in test set which have last_month_cnt_item = 0 is 185528\n",
      "number of item_id in shop_id in test set 214200\n",
      "percentage of item_cnt_month = 0: 86.61437908496733\n"
     ]
    }
   ],
   "source": [
    "print('number of item_id in test set', len(test_data['item_id'].unique()))\n",
    "test_item_id = set(test_data['item_id'].unique())\n",
    "train_item_id = set(train_data['item_id'].unique())\n",
    "print('number of new item_id in test set', len(test_item_id - train_item_id))\n",
    "train_last_month_cnt_item = train_data[train_data['date_block_num'] == 33].groupby(['item_id', 'shop_id'])['item_cnt_day'].sum().reset_index()\n",
    "train_last_month_cnt_item.columns = ['item_id', 'shop_id', 'last_month_cnt_item']\n",
    "test_item_id_df = test_data.merge(train_last_month_cnt_item, on=['item_id', 'shop_id'], how='left')\n",
    "test_item_id_df.fillna(0, inplace=True)\n",
    "print('number of item_id in shop_id in test set which have last_month_cnt_item = 0 is', len(test_item_id_df[test_item_id_df['last_month_cnt_item'] == 0]))\n",
    "print('number of item_id in shop_id in test set', len(test_data))\n",
    "print('percentage of item_cnt_month = 0:', 100*len(test_item_id_df[test_item_id_df['last_month_cnt_item'] == 0])/len(test_data))"
   ]
  },
  {
   "cell_type": "markdown",
   "metadata": {},
   "source": [
    "In the test set, there are 363 new items. And with the tuple (shop_id, item_id), the last month with date_block_num = 33 has 185528 items in shop which has item_cnt as 0, about 87% of the test set. I think that most products have a sales quantity of 0 in the test set."
   ]
  },
  {
   "cell_type": "code",
   "execution_count": 18,
   "metadata": {},
   "outputs": [],
   "source": [
    "index_cols = ['date_block_num', 'shop_id', 'item_id']"
   ]
  },
  {
   "cell_type": "code",
   "execution_count": 19,
   "metadata": {},
   "outputs": [
    {
     "name": "stdout",
     "output_type": "stream",
     "text": [
      "percentage of item_cnt_month = 0 of original training data: 0.03106431027523592\n",
      "original training data with item_cnt_month\n"
     ]
    },
    {
     "data": {
      "image/png": "[encoded data removed]",
      "text/plain": [
       "<Figure size 640x480 with 1 Axes>"
      ]
     },
     "metadata": {},
     "output_type": "display_data"
    },
    {
     "name": "stdout",
     "output_type": "stream",
     "text": [
      "percentage of item_cnt_month = 0 of processed training data: 85.26431297465119\n",
      "processed training data with item_cnt_month\n"
     ]
    },
    {
     "data": {
      "image/png": "[encoded data removed]",
      "text/plain": [
       "<Figure size 640x480 with 1 Axes>"
      ]
     },
     "metadata": {},
     "output_type": "display_data"
    }
   ],
   "source": [
    "original_train_data_item_cnt_month_group = train_data.groupby(index_cols)['item_cnt_day'].sum().reset_index()\n",
    "original_train_data_item_cnt_month_group.columns = index_cols + ['item_cnt_month']\n",
    "original_train_data_item_cnt_month = pd.merge(train_data, original_train_data_item_cnt_month_group, on=index_cols, how='left')\n",
    "original_train_data_item_cnt_month.fillna({'item_cnt_month':0},inplace=True)\n",
    "original_train_data_item_cnt_month['item_cnt_month'].hist(bins=100, range=(0, 20))\n",
    "print('percentage of item_cnt_month = 0 of original training data:', \n",
    "      100*len(original_train_data_item_cnt_month[original_train_data_item_cnt_month['item_cnt_month'] == 0])/len(original_train_data_item_cnt_month))\n",
    "print('original training data with item_cnt_month')\n",
    "plt.show()\n",
    "all_shop_item_cnt_month = []\n",
    "for i in range(34):\n",
    "    sales = train_data[train_data['date_block_num']==i]\n",
    "    all_shop_item_cnt_month.append(np.array(list(product([i],sales['shop_id'].unique(),sales['item_id'].unique())), dtype=np.int16))\n",
    "all_shop_item_cnt_month = pd.DataFrame(data=np.vstack(all_shop_item_cnt_month), columns=index_cols)\n",
    "all_shop_item_cnt_month.sort_values(index_cols, inplace=True)\n",
    "all_shop_item_cnt_month.reset_index(drop=True, inplace=True)\n",
    "all_shop_item_cnt_month = pd.merge(all_shop_item_cnt_month, original_train_data_item_cnt_month_group, on=index_cols, how='left')\n",
    "all_shop_item_cnt_month.fillna({'item_cnt_month':0},inplace=True)\n",
    "all_shop_item_cnt_month['item_cnt_month'].hist(bins=100, range=(0, 20))\n",
    "print('percentage of item_cnt_month = 0 of processed training data:', \n",
    "      100*len(all_shop_item_cnt_month[all_shop_item_cnt_month['item_cnt_month'] == 0])/len(all_shop_item_cnt_month))\n",
    "print('processed training data with item_cnt_month')\n",
    "plt.show()"
   ]
  },
  {
   "cell_type": "markdown",
   "metadata": {},
   "source": [
    "In the original training dataset, the proportion of products with monthly sales equal to 0 is very low because unsold products in stores are not recorded. However, when we process the dataset, if a product is sold in any shop during that month, we will add the sales quantity for that product across all shops in that month. This way, the new training dataset will fully represent the number of products sold in each shop, and the proportion of unsold products in each shop becomes more similar to the test set (85% in processed train set and 87% in test set)."
   ]
  },
  {
   "cell_type": "markdown",
   "metadata": {},
   "source": [
    "Item_categories, items, shops are just mapping values, we do not need to analysis those files."
   ]
  },
  {
   "cell_type": "code",
   "execution_count": 20,
   "metadata": {},
   "outputs": [],
   "source": [
    "del negative_item_cnt, train_last_month_cnt_item, test_item_id_df, original_train_data_item_cnt_month_group, original_train_data_item_cnt_month, all_shop_item_cnt_month\n"
   ]
  },
  {
   "cell_type": "markdown",
   "metadata": {},
   "source": [
    "### Data processing"
   ]
  },
  {
   "cell_type": "markdown",
   "metadata": {},
   "source": [
    "Create processed training data"
   ]
  },
  {
   "cell_type": "code",
   "execution_count": 21,
   "metadata": {},
   "outputs": [],
   "source": [
    "train_data.sort_values(by=index_cols, inplace=True)\n",
    "item_cnt_month_group = train_data.groupby(index_cols)['item_cnt_day'].sum().reset_index()\n",
    "item_cnt_month_group.columns = index_cols + ['item_cnt_month']\n",
    "\n",
    "all_shop_train_data = []\n",
    "for i in range(34):\n",
    "    sales = train_data[train_data['date_block_num']==i]\n",
    "    all_shop_train_data.append(np.array(list(product([i],sales['shop_id'].unique(),sales['item_id'].unique())), dtype=np.int16))\n",
    "all_shop_train_data = pd.DataFrame(data=np.vstack(all_shop_train_data), columns=index_cols)\n",
    "all_shop_train_data.sort_values(index_cols, inplace=True)\n",
    "all_shop_train_data.reset_index(drop=True, inplace=True)\n",
    "all_shop_train_data = pd.merge(all_shop_train_data, item_cnt_month_group, on=index_cols, how='left')\n",
    "all_shop_train_data.fillna({'item_cnt_month':0},inplace=True)"
   ]
  },
  {
   "cell_type": "markdown",
   "metadata": {},
   "source": [
    "Merge test data for feature engineering"
   ]
  },
  {
   "cell_type": "code",
   "execution_count": 22,
   "metadata": {},
   "outputs": [],
   "source": [
    "test_data['date_block_num'] = 34\n",
    "test_data.drop(columns='ID',inplace=True)\n",
    "full_data = pd.concat([all_shop_train_data, test_data]).copy()\n",
    "full_data = full_data.reset_index(drop=True)\n",
    "full_data.fillna({'item_cnt_month':0},inplace=True)"
   ]
  },
  {
   "cell_type": "markdown",
   "metadata": {},
   "source": [
    "Merge with items file for item categories"
   ]
  },
  {
   "cell_type": "code",
   "execution_count": 23,
   "metadata": {},
   "outputs": [
    {
     "data": {
      "text/html": [
       "<div>\n",
       "<style scoped>\n",
       "    .dataframe tbody tr th:only-of-type {\n",
       "        vertical-align: middle;\n",
       "    }\n",
       "\n",
       "    .dataframe tbody tr th {\n",
       "        vertical-align: top;\n",
       "    }\n",
       "\n",
       "    .dataframe thead th {\n",
       "        text-align: right;\n",
       "    }\n",
       "</style>\n",
       "<table border=\"1\" class=\"dataframe\">\n",
       "  <thead>\n",
       "    <tr style=\"text-align: right;\">\n",
       "      <th></th>\n",
       "      <th>date_block_num</th>\n",
       "      <th>shop_id</th>\n",
       "      <th>item_id</th>\n",
       "      <th>item_cnt_month</th>\n",
       "      <th>item_category_id</th>\n",
       "    </tr>\n",
       "  </thead>\n",
       "  <tbody>\n",
       "    <tr>\n",
       "      <th>0</th>\n",
       "      <td>0</td>\n",
       "      <td>0</td>\n",
       "      <td>19</td>\n",
       "      <td>0.0</td>\n",
       "      <td>40</td>\n",
       "    </tr>\n",
       "    <tr>\n",
       "      <th>1</th>\n",
       "      <td>0</td>\n",
       "      <td>0</td>\n",
       "      <td>27</td>\n",
       "      <td>0.0</td>\n",
       "      <td>19</td>\n",
       "    </tr>\n",
       "    <tr>\n",
       "      <th>2</th>\n",
       "      <td>0</td>\n",
       "      <td>0</td>\n",
       "      <td>28</td>\n",
       "      <td>0.0</td>\n",
       "      <td>30</td>\n",
       "    </tr>\n",
       "    <tr>\n",
       "      <th>3</th>\n",
       "      <td>0</td>\n",
       "      <td>0</td>\n",
       "      <td>29</td>\n",
       "      <td>0.0</td>\n",
       "      <td>23</td>\n",
       "    </tr>\n",
       "    <tr>\n",
       "      <th>4</th>\n",
       "      <td>0</td>\n",
       "      <td>0</td>\n",
       "      <td>32</td>\n",
       "      <td>6.0</td>\n",
       "      <td>40</td>\n",
       "    </tr>\n",
       "    <tr>\n",
       "      <th>...</th>\n",
       "      <td>...</td>\n",
       "      <td>...</td>\n",
       "      <td>...</td>\n",
       "      <td>...</td>\n",
       "      <td>...</td>\n",
       "    </tr>\n",
       "    <tr>\n",
       "      <th>11127999</th>\n",
       "      <td>34</td>\n",
       "      <td>45</td>\n",
       "      <td>18454</td>\n",
       "      <td>0.0</td>\n",
       "      <td>55</td>\n",
       "    </tr>\n",
       "    <tr>\n",
       "      <th>11128000</th>\n",
       "      <td>34</td>\n",
       "      <td>45</td>\n",
       "      <td>16188</td>\n",
       "      <td>0.0</td>\n",
       "      <td>64</td>\n",
       "    </tr>\n",
       "    <tr>\n",
       "      <th>11128001</th>\n",
       "      <td>34</td>\n",
       "      <td>45</td>\n",
       "      <td>15757</td>\n",
       "      <td>0.0</td>\n",
       "      <td>55</td>\n",
       "    </tr>\n",
       "    <tr>\n",
       "      <th>11128002</th>\n",
       "      <td>34</td>\n",
       "      <td>45</td>\n",
       "      <td>19648</td>\n",
       "      <td>0.0</td>\n",
       "      <td>40</td>\n",
       "    </tr>\n",
       "    <tr>\n",
       "      <th>11128003</th>\n",
       "      <td>34</td>\n",
       "      <td>45</td>\n",
       "      <td>969</td>\n",
       "      <td>0.0</td>\n",
       "      <td>37</td>\n",
       "    </tr>\n",
       "  </tbody>\n",
       "</table>\n",
       "<p>11128004 rows × 5 columns</p>\n",
       "</div>"
      ],
      "text/plain": [
       "          date_block_num  shop_id  item_id  item_cnt_month  item_category_id\n",
       "0                      0        0       19             0.0                40\n",
       "1                      0        0       27             0.0                19\n",
       "2                      0        0       28             0.0                30\n",
       "3                      0        0       29             0.0                23\n",
       "4                      0        0       32             6.0                40\n",
       "...                  ...      ...      ...             ...               ...\n",
       "11127999              34       45    18454             0.0                55\n",
       "11128000              34       45    16188             0.0                64\n",
       "11128001              34       45    15757             0.0                55\n",
       "11128002              34       45    19648             0.0                40\n",
       "11128003              34       45      969             0.0                37\n",
       "\n",
       "[11128004 rows x 5 columns]"
      ]
     },
     "execution_count": 23,
     "metadata": {},
     "output_type": "execute_result"
    }
   ],
   "source": [
    "full_data = pd.merge(full_data, items_df, on='item_id', how='left')\n",
    "full_data"
   ]
  },
  {
   "cell_type": "code",
   "execution_count": 24,
   "metadata": {},
   "outputs": [],
   "source": [
    "lag_features = []\n",
    "drop_features = []"
   ]
  },
  {
   "cell_type": "markdown",
   "metadata": {},
   "source": [
    "The average number of products sold by month."
   ]
  },
  {
   "cell_type": "code",
   "execution_count": 25,
   "metadata": {},
   "outputs": [],
   "source": [
    "group_item_id_by_month = full_data.groupby(['date_block_num', 'item_id'])['item_cnt_month'].aggregate(['mean'])\n",
    "group_item_id_by_month.columns = ['cnt_item_id_by_month']\n",
    "group_item_id_by_month.reset_index(inplace=True)\n",
    "full_data = pd.merge(full_data, group_item_id_by_month, on=['date_block_num','item_id'], how='left')\n",
    "full_data['cnt_item_id_by_month'] = full_data['cnt_item_id_by_month'].astype('float16')\n",
    "lag_features += ['cnt_item_id_by_month']\n",
    "drop_features += ['cnt_item_id_by_month']\n",
    "del group_item_id_by_month"
   ]
  },
  {
   "cell_type": "markdown",
   "metadata": {},
   "source": [
    "The average number of products a shop sold by month"
   ]
  },
  {
   "cell_type": "code",
   "execution_count": 26,
   "metadata": {},
   "outputs": [],
   "source": [
    "group_shop_by_month = full_data.groupby(['date_block_num', 'shop_id'])['item_cnt_month'].aggregate(['mean'])\n",
    "group_shop_by_month.columns = ['cnt_shop_id_by_month']\n",
    "group_shop_by_month.reset_index(inplace=True)\n",
    "full_data = pd.merge(full_data, group_shop_by_month, on=['date_block_num','shop_id'], how='left')\n",
    "full_data['cnt_shop_id_by_month'] = full_data['cnt_shop_id_by_month'].astype('float16')\n",
    "lag_features += ['cnt_shop_id_by_month']\n",
    "drop_features += ['cnt_shop_id_by_month']\n",
    "del group_shop_by_month"
   ]
  },
  {
   "cell_type": "markdown",
   "metadata": {},
   "source": [
    "The average number of products sold by category each month"
   ]
  },
  {
   "cell_type": "code",
   "execution_count": 27,
   "metadata": {},
   "outputs": [],
   "source": [
    "group_item_category_by_month = full_data.groupby(['date_block_num', 'item_category_id'])['item_cnt_month'].aggregate(['mean'])\n",
    "group_item_category_by_month.columns = ['cnt_item_category_by_month']\n",
    "group_item_category_by_month.reset_index(inplace=True)\n",
    "full_data = pd.merge(full_data, group_item_category_by_month, on=['date_block_num','item_category_id'], how='left')\n",
    "full_data['cnt_item_category_by_month'] = full_data['cnt_item_category_by_month'].astype('float16')\n",
    "lag_features += ['cnt_item_category_by_month']\n",
    "drop_features += ['cnt_item_category_by_month']\n",
    "del group_item_category_by_month"
   ]
  },
  {
   "cell_type": "markdown",
   "metadata": {},
   "source": [
    "The average number of products sold by category at shop each month"
   ]
  },
  {
   "cell_type": "code",
   "execution_count": 28,
   "metadata": {},
   "outputs": [],
   "source": [
    "group_item_category_by_shop_id_month = full_data.groupby(['date_block_num', 'shop_id', 'item_category_id'])['item_cnt_month'].aggregate(['mean'])\n",
    "group_item_category_by_shop_id_month.columns = ['cnt_item_category_by_shop_id_month']\n",
    "group_item_category_by_shop_id_month.reset_index(inplace=True)\n",
    "full_data = pd.merge(full_data, group_item_category_by_shop_id_month, on=['date_block_num', 'shop_id', 'item_category_id'], how='left')\n",
    "full_data['cnt_item_category_by_shop_id_month'] = full_data['cnt_item_category_by_shop_id_month'].astype('float16')\n",
    "lag_features += ['cnt_item_category_by_shop_id_month']\n",
    "drop_features += ['cnt_item_category_by_shop_id_month']\n",
    "del group_item_category_by_shop_id_month"
   ]
  },
  {
   "cell_type": "markdown",
   "metadata": {},
   "source": [
    "The average number of products sold by id at shop each month"
   ]
  },
  {
   "cell_type": "code",
   "execution_count": 29,
   "metadata": {},
   "outputs": [],
   "source": [
    "group_item_category_by_shop_id_month = full_data.groupby(['date_block_num', 'shop_id', 'item_id'])['item_cnt_month'].aggregate(['mean'])\n",
    "group_item_category_by_shop_id_month.columns = ['cnt_item_id_by_shop_id_month']\n",
    "group_item_category_by_shop_id_month.reset_index(inplace=True)\n",
    "full_data = pd.merge(full_data, group_item_category_by_shop_id_month, on=['date_block_num', 'shop_id', 'item_id'], how='left')\n",
    "full_data['cnt_item_id_by_shop_id_month'] = full_data['cnt_item_id_by_shop_id_month'].astype('float16')\n",
    "lag_features += ['cnt_item_id_by_shop_id_month']\n",
    "drop_features += ['cnt_item_id_by_shop_id_month']\n",
    "del group_item_category_by_shop_id_month"
   ]
  },
  {
   "cell_type": "markdown",
   "metadata": {},
   "source": [
    "The average price of products in a shop each month"
   ]
  },
  {
   "cell_type": "code",
   "execution_count": 30,
   "metadata": {},
   "outputs": [],
   "source": [
    "group_price_mean = train_data.groupby(index_cols)['item_price'].aggregate(['mean'])\n",
    "group_price_mean.columns = ['item_price_mean']\n",
    "group_price_mean.reset_index(inplace=True)\n",
    "full_data = pd.merge(full_data, group_price_mean, on=index_cols, how='left')\n",
    "full_data['item_price_mean'] = full_data['item_price_mean'].astype('float16')\n",
    "drop_features += ['item_price_mean']\n",
    "del group_price_mean"
   ]
  },
  {
   "cell_type": "markdown",
   "metadata": {},
   "source": [
    "Price of the first month of products in a shop each month"
   ]
  },
  {
   "cell_type": "code",
   "execution_count": 31,
   "metadata": {},
   "outputs": [],
   "source": [
    "group_price_mean = train_data.groupby(index_cols)['item_price'].aggregate(['mean'])\n",
    "group_price_mean.columns = ['item_price_mean']\n",
    "group_price_mean.reset_index(inplace=True)\n",
    "group_price_mean.sort_values(by='date_block_num', inplace=True)\n",
    "first_price_per_item = group_price_mean.groupby(['shop_id', 'item_id'])['item_price_mean'].aggregate(['first'])\n",
    "first_price_per_item.columns = ['first_item_price_mean']\n",
    "first_price_per_item.reset_index(inplace=True)\n",
    "full_data = pd.merge(full_data, first_price_per_item, on=['shop_id', 'item_id'], how='left')\n",
    "full_data['first_item_price_mean'] = full_data['first_item_price_mean'].astype('float16')\n",
    "drop_features += ['first_item_price_mean']\n",
    "del group_price_mean, first_price_per_item"
   ]
  },
  {
   "cell_type": "markdown",
   "metadata": {},
   "source": [
    "Add z_item_price feature"
   ]
  },
  {
   "cell_type": "code",
   "execution_count": 32,
   "metadata": {},
   "outputs": [],
   "source": [
    "full_data['z_item_price_mean'] = full_data['item_price_mean'] / full_data['first_item_price_mean'] - 1.0\n",
    "full_data['z_item_price_mean'] = full_data['z_item_price_mean'].fillna(0)\n",
    "full_data['z_item_price_mean'] = full_data['z_item_price_mean'].astype('float16')\n",
    "lag_features += ['z_item_price_mean']\n",
    "drop_features += ['z_item_price_mean']"
   ]
  },
  {
   "cell_type": "markdown",
   "metadata": {},
   "source": [
    "Add lag features"
   ]
  },
  {
   "cell_type": "code",
   "execution_count": 33,
   "metadata": {},
   "outputs": [],
   "source": [
    "lag_frame = [i+1 for i in range(3)]\n",
    "def create_lag_feature(df, lags, features):\n",
    "    for feature in features:\n",
    "        print(feature)\n",
    "        for lag in lags:\n",
    "            shifted = df[index_cols + [feature]].copy()\n",
    "            shifted.columns = index_cols + [f'{feature}_lag_{lag}']\n",
    "            shifted['date_block_num'] = shifted['date_block_num'] + lag\n",
    "            df = pd.merge(df, shifted, on=index_cols, how='left')\n",
    "    return df"
   ]
  },
  {
   "cell_type": "code",
   "execution_count": 34,
   "metadata": {},
   "outputs": [
    {
     "name": "stdout",
     "output_type": "stream",
     "text": [
      "['cnt_item_id_by_month', 'cnt_shop_id_by_month', 'cnt_item_category_by_month', 'cnt_item_category_by_shop_id_month', 'cnt_item_id_by_shop_id_month', 'z_item_price_mean']\n",
      "['cnt_item_id_by_month', 'cnt_shop_id_by_month', 'cnt_item_category_by_month', 'cnt_item_category_by_shop_id_month', 'cnt_item_id_by_shop_id_month', 'item_price_mean', 'first_item_price_mean', 'z_item_price_mean']\n",
      "cnt_item_id_by_month\n",
      "cnt_shop_id_by_month\n",
      "cnt_item_category_by_month\n",
      "cnt_item_category_by_shop_id_month\n",
      "cnt_item_id_by_shop_id_month\n",
      "z_item_price_mean\n"
     ]
    },
    {
     "name": "stderr",
     "output_type": "stream",
     "text": [
      "/home/cutia/anaconda3/envs/datanest/lib/python3.12/site-packages/pandas/io/formats/format.py:1458: RuntimeWarning: overflow encountered in cast\n",
      "  has_large_values = (abs_vals > 1e6).any()\n",
      "/home/cutia/anaconda3/envs/datanest/lib/python3.12/site-packages/pandas/io/formats/format.py:1458: RuntimeWarning: overflow encountered in cast\n",
      "  has_large_values = (abs_vals > 1e6).any()\n"
     ]
    },
    {
     "data": {
      "text/html": [
       "<div>\n",
       "<style scoped>\n",
       "    .dataframe tbody tr th:only-of-type {\n",
       "        vertical-align: middle;\n",
       "    }\n",
       "\n",
       "    .dataframe tbody tr th {\n",
       "        vertical-align: top;\n",
       "    }\n",
       "\n",
       "    .dataframe thead th {\n",
       "        text-align: right;\n",
       "    }\n",
       "</style>\n",
       "<table border=\"1\" class=\"dataframe\">\n",
       "  <thead>\n",
       "    <tr style=\"text-align: right;\">\n",
       "      <th></th>\n",
       "      <th>date_block_num</th>\n",
       "      <th>shop_id</th>\n",
       "      <th>item_id</th>\n",
       "      <th>item_cnt_month</th>\n",
       "      <th>item_category_id</th>\n",
       "      <th>cnt_item_id_by_month</th>\n",
       "      <th>cnt_shop_id_by_month</th>\n",
       "      <th>cnt_item_category_by_month</th>\n",
       "      <th>cnt_item_category_by_shop_id_month</th>\n",
       "      <th>cnt_item_id_by_shop_id_month</th>\n",
       "      <th>...</th>\n",
       "      <th>cnt_item_category_by_month_lag_3</th>\n",
       "      <th>cnt_item_category_by_shop_id_month_lag_1</th>\n",
       "      <th>cnt_item_category_by_shop_id_month_lag_2</th>\n",
       "      <th>cnt_item_category_by_shop_id_month_lag_3</th>\n",
       "      <th>cnt_item_id_by_shop_id_month_lag_1</th>\n",
       "      <th>cnt_item_id_by_shop_id_month_lag_2</th>\n",
       "      <th>cnt_item_id_by_shop_id_month_lag_3</th>\n",
       "      <th>z_item_price_mean_lag_1</th>\n",
       "      <th>z_item_price_mean_lag_2</th>\n",
       "      <th>z_item_price_mean_lag_3</th>\n",
       "    </tr>\n",
       "  </thead>\n",
       "  <tbody>\n",
       "    <tr>\n",
       "      <th>0</th>\n",
       "      <td>0</td>\n",
       "      <td>0</td>\n",
       "      <td>19</td>\n",
       "      <td>0.0</td>\n",
       "      <td>40</td>\n",
       "      <td>0.022217</td>\n",
       "      <td>0.687500</td>\n",
       "      <td>0.311279</td>\n",
       "      <td>0.767578</td>\n",
       "      <td>0.0</td>\n",
       "      <td>...</td>\n",
       "      <td>NaN</td>\n",
       "      <td>NaN</td>\n",
       "      <td>NaN</td>\n",
       "      <td>NaN</td>\n",
       "      <td>NaN</td>\n",
       "      <td>NaN</td>\n",
       "      <td>NaN</td>\n",
       "      <td>NaN</td>\n",
       "      <td>NaN</td>\n",
       "      <td>NaN</td>\n",
       "    </tr>\n",
       "    <tr>\n",
       "      <th>1</th>\n",
       "      <td>0</td>\n",
       "      <td>0</td>\n",
       "      <td>27</td>\n",
       "      <td>0.0</td>\n",
       "      <td>19</td>\n",
       "      <td>0.155518</td>\n",
       "      <td>0.687500</td>\n",
       "      <td>0.853516</td>\n",
       "      <td>1.467773</td>\n",
       "      <td>0.0</td>\n",
       "      <td>...</td>\n",
       "      <td>NaN</td>\n",
       "      <td>NaN</td>\n",
       "      <td>NaN</td>\n",
       "      <td>NaN</td>\n",
       "      <td>NaN</td>\n",
       "      <td>NaN</td>\n",
       "      <td>NaN</td>\n",
       "      <td>NaN</td>\n",
       "      <td>NaN</td>\n",
       "      <td>NaN</td>\n",
       "    </tr>\n",
       "    <tr>\n",
       "      <th>2</th>\n",
       "      <td>0</td>\n",
       "      <td>0</td>\n",
       "      <td>28</td>\n",
       "      <td>0.0</td>\n",
       "      <td>30</td>\n",
       "      <td>0.177734</td>\n",
       "      <td>0.687500</td>\n",
       "      <td>1.192383</td>\n",
       "      <td>1.833984</td>\n",
       "      <td>0.0</td>\n",
       "      <td>...</td>\n",
       "      <td>NaN</td>\n",
       "      <td>NaN</td>\n",
       "      <td>NaN</td>\n",
       "      <td>NaN</td>\n",
       "      <td>NaN</td>\n",
       "      <td>NaN</td>\n",
       "      <td>NaN</td>\n",
       "      <td>NaN</td>\n",
       "      <td>NaN</td>\n",
       "      <td>NaN</td>\n",
       "    </tr>\n",
       "    <tr>\n",
       "      <th>3</th>\n",
       "      <td>0</td>\n",
       "      <td>0</td>\n",
       "      <td>29</td>\n",
       "      <td>0.0</td>\n",
       "      <td>23</td>\n",
       "      <td>0.111084</td>\n",
       "      <td>0.687500</td>\n",
       "      <td>0.551758</td>\n",
       "      <td>1.541992</td>\n",
       "      <td>0.0</td>\n",
       "      <td>...</td>\n",
       "      <td>NaN</td>\n",
       "      <td>NaN</td>\n",
       "      <td>NaN</td>\n",
       "      <td>NaN</td>\n",
       "      <td>NaN</td>\n",
       "      <td>NaN</td>\n",
       "      <td>NaN</td>\n",
       "      <td>NaN</td>\n",
       "      <td>NaN</td>\n",
       "      <td>NaN</td>\n",
       "    </tr>\n",
       "    <tr>\n",
       "      <th>4</th>\n",
       "      <td>0</td>\n",
       "      <td>0</td>\n",
       "      <td>32</td>\n",
       "      <td>6.0</td>\n",
       "      <td>40</td>\n",
       "      <td>6.644531</td>\n",
       "      <td>0.687500</td>\n",
       "      <td>0.311279</td>\n",
       "      <td>0.767578</td>\n",
       "      <td>6.0</td>\n",
       "      <td>...</td>\n",
       "      <td>NaN</td>\n",
       "      <td>NaN</td>\n",
       "      <td>NaN</td>\n",
       "      <td>NaN</td>\n",
       "      <td>NaN</td>\n",
       "      <td>NaN</td>\n",
       "      <td>NaN</td>\n",
       "      <td>NaN</td>\n",
       "      <td>NaN</td>\n",
       "      <td>NaN</td>\n",
       "    </tr>\n",
       "    <tr>\n",
       "      <th>...</th>\n",
       "      <td>...</td>\n",
       "      <td>...</td>\n",
       "      <td>...</td>\n",
       "      <td>...</td>\n",
       "      <td>...</td>\n",
       "      <td>...</td>\n",
       "      <td>...</td>\n",
       "      <td>...</td>\n",
       "      <td>...</td>\n",
       "      <td>...</td>\n",
       "      <td>...</td>\n",
       "      <td>...</td>\n",
       "      <td>...</td>\n",
       "      <td>...</td>\n",
       "      <td>...</td>\n",
       "      <td>...</td>\n",
       "      <td>...</td>\n",
       "      <td>...</td>\n",
       "      <td>...</td>\n",
       "      <td>...</td>\n",
       "      <td>...</td>\n",
       "    </tr>\n",
       "    <tr>\n",
       "      <th>11127999</th>\n",
       "      <td>34</td>\n",
       "      <td>45</td>\n",
       "      <td>18454</td>\n",
       "      <td>0.0</td>\n",
       "      <td>55</td>\n",
       "      <td>0.000000</td>\n",
       "      <td>0.013924</td>\n",
       "      <td>0.004395</td>\n",
       "      <td>0.000000</td>\n",
       "      <td>0.0</td>\n",
       "      <td>...</td>\n",
       "      <td>0.217407</td>\n",
       "      <td>0.126831</td>\n",
       "      <td>0.074524</td>\n",
       "      <td>0.106079</td>\n",
       "      <td>1.0</td>\n",
       "      <td>0.0</td>\n",
       "      <td>0.0</td>\n",
       "      <td>-0.502441</td>\n",
       "      <td>0.0</td>\n",
       "      <td>0.0</td>\n",
       "    </tr>\n",
       "    <tr>\n",
       "      <th>11128000</th>\n",
       "      <td>34</td>\n",
       "      <td>45</td>\n",
       "      <td>16188</td>\n",
       "      <td>0.0</td>\n",
       "      <td>64</td>\n",
       "      <td>0.000000</td>\n",
       "      <td>0.013924</td>\n",
       "      <td>0.001116</td>\n",
       "      <td>0.000000</td>\n",
       "      <td>0.0</td>\n",
       "      <td>...</td>\n",
       "      <td>NaN</td>\n",
       "      <td>0.094482</td>\n",
       "      <td>0.117126</td>\n",
       "      <td>NaN</td>\n",
       "      <td>0.0</td>\n",
       "      <td>0.0</td>\n",
       "      <td>NaN</td>\n",
       "      <td>0.000000</td>\n",
       "      <td>0.0</td>\n",
       "      <td>NaN</td>\n",
       "    </tr>\n",
       "    <tr>\n",
       "      <th>11128001</th>\n",
       "      <td>34</td>\n",
       "      <td>45</td>\n",
       "      <td>15757</td>\n",
       "      <td>0.0</td>\n",
       "      <td>55</td>\n",
       "      <td>0.000000</td>\n",
       "      <td>0.013924</td>\n",
       "      <td>0.004395</td>\n",
       "      <td>0.000000</td>\n",
       "      <td>0.0</td>\n",
       "      <td>...</td>\n",
       "      <td>0.217407</td>\n",
       "      <td>0.126831</td>\n",
       "      <td>0.074524</td>\n",
       "      <td>0.106079</td>\n",
       "      <td>0.0</td>\n",
       "      <td>0.0</td>\n",
       "      <td>0.0</td>\n",
       "      <td>0.000000</td>\n",
       "      <td>0.0</td>\n",
       "      <td>0.0</td>\n",
       "    </tr>\n",
       "    <tr>\n",
       "      <th>11128002</th>\n",
       "      <td>34</td>\n",
       "      <td>45</td>\n",
       "      <td>19648</td>\n",
       "      <td>0.0</td>\n",
       "      <td>40</td>\n",
       "      <td>0.000000</td>\n",
       "      <td>0.013924</td>\n",
       "      <td>0.011375</td>\n",
       "      <td>0.000000</td>\n",
       "      <td>0.0</td>\n",
       "      <td>...</td>\n",
       "      <td>0.243774</td>\n",
       "      <td>0.083740</td>\n",
       "      <td>0.074097</td>\n",
       "      <td>0.111633</td>\n",
       "      <td>0.0</td>\n",
       "      <td>0.0</td>\n",
       "      <td>0.0</td>\n",
       "      <td>0.000000</td>\n",
       "      <td>0.0</td>\n",
       "      <td>0.0</td>\n",
       "    </tr>\n",
       "    <tr>\n",
       "      <th>11128003</th>\n",
       "      <td>34</td>\n",
       "      <td>45</td>\n",
       "      <td>969</td>\n",
       "      <td>0.0</td>\n",
       "      <td>37</td>\n",
       "      <td>0.000000</td>\n",
       "      <td>0.013924</td>\n",
       "      <td>0.017700</td>\n",
       "      <td>0.000000</td>\n",
       "      <td>0.0</td>\n",
       "      <td>...</td>\n",
       "      <td>0.195679</td>\n",
       "      <td>0.128174</td>\n",
       "      <td>0.067444</td>\n",
       "      <td>0.122009</td>\n",
       "      <td>0.0</td>\n",
       "      <td>0.0</td>\n",
       "      <td>0.0</td>\n",
       "      <td>0.000000</td>\n",
       "      <td>0.0</td>\n",
       "      <td>0.0</td>\n",
       "    </tr>\n",
       "  </tbody>\n",
       "</table>\n",
       "<p>11128004 rows × 31 columns</p>\n",
       "</div>"
      ],
      "text/plain": [
       "          date_block_num  shop_id  item_id  item_cnt_month  item_category_id  \\\n",
       "0                      0        0       19             0.0                40   \n",
       "1                      0        0       27             0.0                19   \n",
       "2                      0        0       28             0.0                30   \n",
       "3                      0        0       29             0.0                23   \n",
       "4                      0        0       32             6.0                40   \n",
       "...                  ...      ...      ...             ...               ...   \n",
       "11127999              34       45    18454             0.0                55   \n",
       "11128000              34       45    16188             0.0                64   \n",
       "11128001              34       45    15757             0.0                55   \n",
       "11128002              34       45    19648             0.0                40   \n",
       "11128003              34       45      969             0.0                37   \n",
       "\n",
       "          cnt_item_id_by_month  cnt_shop_id_by_month  \\\n",
       "0                     0.022217              0.687500   \n",
       "1                     0.155518              0.687500   \n",
       "2                     0.177734              0.687500   \n",
       "3                     0.111084              0.687500   \n",
       "4                     6.644531              0.687500   \n",
       "...                        ...                   ...   \n",
       "11127999              0.000000              0.013924   \n",
       "11128000              0.000000              0.013924   \n",
       "11128001              0.000000              0.013924   \n",
       "11128002              0.000000              0.013924   \n",
       "11128003              0.000000              0.013924   \n",
       "\n",
       "          cnt_item_category_by_month  cnt_item_category_by_shop_id_month  \\\n",
       "0                           0.311279                            0.767578   \n",
       "1                           0.853516                            1.467773   \n",
       "2                           1.192383                            1.833984   \n",
       "3                           0.551758                            1.541992   \n",
       "4                           0.311279                            0.767578   \n",
       "...                              ...                                 ...   \n",
       "11127999                    0.004395                            0.000000   \n",
       "11128000                    0.001116                            0.000000   \n",
       "11128001                    0.004395                            0.000000   \n",
       "11128002                    0.011375                            0.000000   \n",
       "11128003                    0.017700                            0.000000   \n",
       "\n",
       "          cnt_item_id_by_shop_id_month  ...  cnt_item_category_by_month_lag_3  \\\n",
       "0                                  0.0  ...                               NaN   \n",
       "1                                  0.0  ...                               NaN   \n",
       "2                                  0.0  ...                               NaN   \n",
       "3                                  0.0  ...                               NaN   \n",
       "4                                  6.0  ...                               NaN   \n",
       "...                                ...  ...                               ...   \n",
       "11127999                           0.0  ...                          0.217407   \n",
       "11128000                           0.0  ...                               NaN   \n",
       "11128001                           0.0  ...                          0.217407   \n",
       "11128002                           0.0  ...                          0.243774   \n",
       "11128003                           0.0  ...                          0.195679   \n",
       "\n",
       "          cnt_item_category_by_shop_id_month_lag_1  \\\n",
       "0                                              NaN   \n",
       "1                                              NaN   \n",
       "2                                              NaN   \n",
       "3                                              NaN   \n",
       "4                                              NaN   \n",
       "...                                            ...   \n",
       "11127999                                  0.126831   \n",
       "11128000                                  0.094482   \n",
       "11128001                                  0.126831   \n",
       "11128002                                  0.083740   \n",
       "11128003                                  0.128174   \n",
       "\n",
       "          cnt_item_category_by_shop_id_month_lag_2  \\\n",
       "0                                              NaN   \n",
       "1                                              NaN   \n",
       "2                                              NaN   \n",
       "3                                              NaN   \n",
       "4                                              NaN   \n",
       "...                                            ...   \n",
       "11127999                                  0.074524   \n",
       "11128000                                  0.117126   \n",
       "11128001                                  0.074524   \n",
       "11128002                                  0.074097   \n",
       "11128003                                  0.067444   \n",
       "\n",
       "          cnt_item_category_by_shop_id_month_lag_3  \\\n",
       "0                                              NaN   \n",
       "1                                              NaN   \n",
       "2                                              NaN   \n",
       "3                                              NaN   \n",
       "4                                              NaN   \n",
       "...                                            ...   \n",
       "11127999                                  0.106079   \n",
       "11128000                                       NaN   \n",
       "11128001                                  0.106079   \n",
       "11128002                                  0.111633   \n",
       "11128003                                  0.122009   \n",
       "\n",
       "          cnt_item_id_by_shop_id_month_lag_1  \\\n",
       "0                                        NaN   \n",
       "1                                        NaN   \n",
       "2                                        NaN   \n",
       "3                                        NaN   \n",
       "4                                        NaN   \n",
       "...                                      ...   \n",
       "11127999                                 1.0   \n",
       "11128000                                 0.0   \n",
       "11128001                                 0.0   \n",
       "11128002                                 0.0   \n",
       "11128003                                 0.0   \n",
       "\n",
       "          cnt_item_id_by_shop_id_month_lag_2  \\\n",
       "0                                        NaN   \n",
       "1                                        NaN   \n",
       "2                                        NaN   \n",
       "3                                        NaN   \n",
       "4                                        NaN   \n",
       "...                                      ...   \n",
       "11127999                                 0.0   \n",
       "11128000                                 0.0   \n",
       "11128001                                 0.0   \n",
       "11128002                                 0.0   \n",
       "11128003                                 0.0   \n",
       "\n",
       "          cnt_item_id_by_shop_id_month_lag_3  z_item_price_mean_lag_1  \\\n",
       "0                                        NaN                      NaN   \n",
       "1                                        NaN                      NaN   \n",
       "2                                        NaN                      NaN   \n",
       "3                                        NaN                      NaN   \n",
       "4                                        NaN                      NaN   \n",
       "...                                      ...                      ...   \n",
       "11127999                                 0.0                -0.502441   \n",
       "11128000                                 NaN                 0.000000   \n",
       "11128001                                 0.0                 0.000000   \n",
       "11128002                                 0.0                 0.000000   \n",
       "11128003                                 0.0                 0.000000   \n",
       "\n",
       "          z_item_price_mean_lag_2  z_item_price_mean_lag_3  \n",
       "0                             NaN                      NaN  \n",
       "1                             NaN                      NaN  \n",
       "2                             NaN                      NaN  \n",
       "3                             NaN                      NaN  \n",
       "4                             NaN                      NaN  \n",
       "...                           ...                      ...  \n",
       "11127999                      0.0                      0.0  \n",
       "11128000                      0.0                      NaN  \n",
       "11128001                      0.0                      0.0  \n",
       "11128002                      0.0                      0.0  \n",
       "11128003                      0.0                      0.0  \n",
       "\n",
       "[11128004 rows x 31 columns]"
      ]
     },
     "execution_count": 34,
     "metadata": {},
     "output_type": "execute_result"
    }
   ],
   "source": [
    "print(lag_features)\n",
    "print(drop_features)\n",
    "full_data = create_lag_feature(full_data, lags=lag_frame, features=lag_features)\n",
    "full_data"
   ]
  },
  {
   "cell_type": "markdown",
   "metadata": {},
   "source": [
    "Add month feature and change item_id, category_id, shop_id, month, date_num_block to category type"
   ]
  },
  {
   "cell_type": "code",
   "execution_count": 35,
   "metadata": {},
   "outputs": [
    {
     "data": {
      "text/plain": [
       "0            0\n",
       "1            0\n",
       "2            0\n",
       "3            0\n",
       "4            0\n",
       "            ..\n",
       "11127999    34\n",
       "11128000    34\n",
       "11128001    34\n",
       "11128002    34\n",
       "11128003    34\n",
       "Name: date_block_num, Length: 11128004, dtype: category\n",
       "Categories (35, int64): [0, 1, 2, 3, ..., 31, 32, 33, 34]"
      ]
     },
     "execution_count": 35,
     "metadata": {},
     "output_type": "execute_result"
    }
   ],
   "source": [
    "full_data['month'] = full_data['date_block_num'] % 12 + 1\n",
    "full_data['shop_id'].astype(\"category\")\n",
    "full_data['item_id'].astype(\"category\")\n",
    "full_data['item_category_id'].astype(\"category\")\n",
    "full_data['month'].astype(\"category\")\n",
    "full_data['date_block_num'].astype(\"category\")"
   ]
  },
  {
   "cell_type": "markdown",
   "metadata": {},
   "source": [
    "Drop features and fillna"
   ]
  },
  {
   "cell_type": "code",
   "execution_count": 36,
   "metadata": {},
   "outputs": [
    {
     "name": "stdout",
     "output_type": "stream",
     "text": [
      "['cnt_item_id_by_month', 'cnt_shop_id_by_month', 'cnt_item_category_by_month', 'cnt_item_category_by_shop_id_month', 'cnt_item_id_by_shop_id_month', 'item_price_mean', 'first_item_price_mean', 'z_item_price_mean']\n"
     ]
    }
   ],
   "source": [
    "print(drop_features)\n",
    "full_data.drop(drop_features, axis=1, inplace=True)\n",
    "full_data.fillna(0, inplace=True)"
   ]
  },
  {
   "cell_type": "markdown",
   "metadata": {},
   "source": [
    "Check all features"
   ]
  },
  {
   "cell_type": "code",
   "execution_count": 37,
   "metadata": {},
   "outputs": [
    {
     "data": {
      "text/plain": [
       "['date_block_num',\n",
       " 'month',\n",
       " 'shop_id',\n",
       " 'item_id',\n",
       " 'item_category_id',\n",
       " 'cnt_item_id_by_month_lag_1',\n",
       " 'cnt_item_id_by_month_lag_2',\n",
       " 'cnt_item_id_by_month_lag_3',\n",
       " 'cnt_shop_id_by_month_lag_1',\n",
       " 'cnt_shop_id_by_month_lag_2',\n",
       " 'cnt_shop_id_by_month_lag_3',\n",
       " 'cnt_item_category_by_month_lag_1',\n",
       " 'cnt_item_category_by_month_lag_2',\n",
       " 'cnt_item_category_by_month_lag_3',\n",
       " 'cnt_item_category_by_shop_id_month_lag_1',\n",
       " 'cnt_item_category_by_shop_id_month_lag_2',\n",
       " 'cnt_item_category_by_shop_id_month_lag_3',\n",
       " 'cnt_item_id_by_shop_id_month_lag_1',\n",
       " 'cnt_item_id_by_shop_id_month_lag_2',\n",
       " 'cnt_item_id_by_shop_id_month_lag_3',\n",
       " 'z_item_price_mean_lag_1',\n",
       " 'z_item_price_mean_lag_2',\n",
       " 'z_item_price_mean_lag_3']"
      ]
     },
     "execution_count": 37,
     "metadata": {},
     "output_type": "execute_result"
    }
   ],
   "source": [
    "features = ['date_block_num', 'month', 'shop_id', 'item_id', 'item_category_id']\n",
    "features += [f'{lag_feature}_lag_{i}' for lag_feature in lag_features for i in lag_frame]\n",
    "features"
   ]
  },
  {
   "cell_type": "markdown",
   "metadata": {},
   "source": [
    "### Training"
   ]
  },
  {
   "cell_type": "markdown",
   "metadata": {},
   "source": [
    "We will split the dataset, using cross validation for hyperparameter tuning with ramdomize search. The last model is used for evaluation and test prediction."
   ]
  },
  {
   "cell_type": "markdown",
   "metadata": {},
   "source": [
    "Train data from start to block 32, val data is block 33 and test data for block 34 prediction."
   ]
  },
  {
   "cell_type": "code",
   "execution_count": 38,
   "metadata": {},
   "outputs": [],
   "source": [
    "train_X = full_data[(full_data['date_block_num']<33)&(full_data['date_block_num']>len(lag_frame))][features]\n",
    "train_Y = full_data[(full_data['date_block_num']<33)&(full_data['date_block_num']>len(lag_frame))]['item_cnt_month']\n",
    "\n",
    "val_X = full_data[full_data['date_block_num']==33][features]\n",
    "val_Y = full_data[full_data['date_block_num']==33]['item_cnt_month']\n",
    "\n",
    "test_X = full_data[full_data['date_block_num']==34][features]"
   ]
  },
  {
   "cell_type": "code",
   "execution_count": 39,
   "metadata": {},
   "outputs": [
    {
     "name": "stdout",
     "output_type": "stream",
     "text": [
      "9178167 238172 214200\n"
     ]
    }
   ],
   "source": [
    "del full_data, train_data, all_shop_train_data\n",
    "print(len(train_X), len(val_X), len(test_X))"
   ]
  },
  {
   "cell_type": "code",
   "execution_count": 40,
   "metadata": {},
   "outputs": [],
   "source": [
    "import numpy as np\n",
    "from sklearn.model_selection import TimeSeriesSplit, RandomizedSearchCV\n",
    "from sklearn.metrics import root_mean_squared_error\n",
    "from xgboost import XGBRegressor\n",
    "from xgboost import plot_importance\n",
    "from scipy.stats import randint, uniform, loguniform"
   ]
  },
  {
   "cell_type": "markdown",
   "metadata": {},
   "source": [
    "Create cross validation training data"
   ]
  },
  {
   "cell_type": "code",
   "execution_count": 41,
   "metadata": {},
   "outputs": [],
   "source": [
    "cross_validation = TimeSeriesSplit(n_splits=5)"
   ]
  },
  {
   "cell_type": "markdown",
   "metadata": {},
   "source": [
    "Search the best param using RandomizedSearchCV for XGBRegressor"
   ]
  },
  {
   "cell_type": "code",
   "execution_count": 42,
   "metadata": {},
   "outputs": [],
   "source": [
    "param_dis = {\n",
    "    'n_estimators': np.arange(50, 450, 100),\n",
    "    'max_depth': randint(3, 7),\n",
    "    'learning_rate': np.array([1e-3, 3e-3, 1e-2, 3e-2, 1e-1, 3e-1]),\n",
    "    'reg_lambda': uniform(0.1, 2),\n",
    "    'subsample': uniform(0.5, 0.5),\n",
    "    'eval_metric': ['rmse'],\n",
    "    'colsample_bytree': uniform(0.5, 0.5),\n",
    "    'max_bin': randint(256, 768),\n",
    "    'nthread': [1],\n",
    "    'device': ['gpu'],\n",
    "    'enable_categorical': [True],\n",
    "}\n",
    "search_param = RandomizedSearchCV(XGBRegressor(), param_dis, \n",
    "                            n_iter=40, refit=True,\n",
    "                            scoring = 'neg_root_mean_squared_error',\n",
    "                            cv=cross_validation, verbose=3, n_jobs=5)"
   ]
  },
  {
   "cell_type": "code",
   "execution_count": 43,
   "metadata": {},
   "outputs": [
    {
     "name": "stdout",
     "output_type": "stream",
     "text": [
      "Fitting 5 folds for each of 40 candidates, totalling 200 fits\n"
     ]
    },
    {
     "name": "stderr",
     "output_type": "stream",
     "text": [
      "/home/cutia/anaconda3/envs/datanest/lib/python3.12/site-packages/xgboost/core.py:158: UserWarning: [02:38:21] WARNING: /workspace/src/common/error_msg.cc:58: Falling back to prediction using DMatrix due to mismatched devices. This might lead to higher memory usage and slower performance. XGBoost is running on: cuda:0, while the input data is on: cpu.\n",
      "Potential solutions:\n",
      "- Use a data structure that matches the device ordinal in the booster.\n",
      "- Set the device for booster before call to inplace_predict.\n",
      "\n",
      "This warning will only be shown once.\n",
      "\n",
      "  warnings.warn(smsg, UserWarning)\n"
     ]
    },
    {
     "name": "stdout",
     "output_type": "stream",
     "text": [
      "[CV 1/5] END colsample_bytree=0.7070885730219072, device=gpu, enable_categorical=True, eval_metric=rmse, learning_rate=0.003, max_bin=758, max_depth=6, n_estimators=150, nthread=1, reg_lambda=1.7349076500952212, subsample=0.7482223770422871;, score=-3.410 total time=   6.9s\n"
     ]
    },
    {
     "name": "stderr",
     "output_type": "stream",
     "text": [
      "/home/cutia/anaconda3/envs/datanest/lib/python3.12/site-packages/xgboost/core.py:158: UserWarning: [02:38:25] WARNING: /workspace/src/common/error_msg.cc:58: Falling back to prediction using DMatrix due to mismatched devices. This might lead to higher memory usage and slower performance. XGBoost is running on: cuda:0, while the input data is on: cpu.\n",
      "Potential solutions:\n",
      "- Use a data structure that matches the device ordinal in the booster.\n",
      "- Set the device for booster before call to inplace_predict.\n",
      "\n",
      "This warning will only be shown once.\n",
      "\n",
      "  warnings.warn(smsg, UserWarning)\n"
     ]
    },
    {
     "name": "stdout",
     "output_type": "stream",
     "text": [
      "[CV 2/5] END colsample_bytree=0.7070885730219072, device=gpu, enable_categorical=True, eval_metric=rmse, learning_rate=0.003, max_bin=758, max_depth=6, n_estimators=150, nthread=1, reg_lambda=1.7349076500952212, subsample=0.7482223770422871;, score=-2.353 total time=  10.7s\n",
      "[CV 1/5] END colsample_bytree=0.7332214831071802, device=gpu, enable_categorical=True, eval_metric=rmse, learning_rate=0.3, max_bin=604, max_depth=6, n_estimators=50, nthread=1, reg_lambda=0.23657626446788385, subsample=0.5372710843741004;, score=-2.822 total time=   6.1s\n"
     ]
    },
    {
     "name": "stderr",
     "output_type": "stream",
     "text": [
      "/home/cutia/anaconda3/envs/datanest/lib/python3.12/site-packages/xgboost/core.py:158: UserWarning: [02:38:31] WARNING: /workspace/src/common/error_msg.cc:58: Falling back to prediction using DMatrix due to mismatched devices. This might lead to higher memory usage and slower performance. XGBoost is running on: cuda:0, while the input data is on: cpu.\n",
      "Potential solutions:\n",
      "- Use a data structure that matches the device ordinal in the booster.\n",
      "- Set the device for booster before call to inplace_predict.\n",
      "\n",
      "This warning will only be shown once.\n",
      "\n",
      "  warnings.warn(smsg, UserWarning)\n"
     ]
    },
    {
     "name": "stdout",
     "output_type": "stream",
     "text": [
      "[CV 3/5] END colsample_bytree=0.7070885730219072, device=gpu, enable_categorical=True, eval_metric=rmse, learning_rate=0.003, max_bin=758, max_depth=6, n_estimators=150, nthread=1, reg_lambda=1.7349076500952212, subsample=0.7482223770422871;, score=-2.408 total time=  16.7s\n",
      "[CV 2/5] END colsample_bytree=0.7332214831071802, device=gpu, enable_categorical=True, eval_metric=rmse, learning_rate=0.3, max_bin=604, max_depth=6, n_estimators=50, nthread=1, reg_lambda=0.23657626446788385, subsample=0.5372710843741004;, score=-2.327 total time=  10.5s\n"
     ]
    },
    {
     "name": "stderr",
     "output_type": "stream",
     "text": [
      "/home/cutia/anaconda3/envs/datanest/lib/python3.12/site-packages/xgboost/core.py:158: UserWarning: [02:38:37] WARNING: /workspace/src/common/error_msg.cc:58: Falling back to prediction using DMatrix due to mismatched devices. This might lead to higher memory usage and slower performance. XGBoost is running on: cuda:0, while the input data is on: cpu.\n",
      "Potential solutions:\n",
      "- Use a data structure that matches the device ordinal in the booster.\n",
      "- Set the device for booster before call to inplace_predict.\n",
      "\n",
      "This warning will only be shown once.\n",
      "\n",
      "  warnings.warn(smsg, UserWarning)\n"
     ]
    },
    {
     "name": "stdout",
     "output_type": "stream",
     "text": [
      "[CV 4/5] END colsample_bytree=0.7070885730219072, device=gpu, enable_categorical=True, eval_metric=rmse, learning_rate=0.003, max_bin=758, max_depth=6, n_estimators=150, nthread=1, reg_lambda=1.7349076500952212, subsample=0.7482223770422871;, score=-3.306 total time=  22.9s\n"
     ]
    },
    {
     "name": "stderr",
     "output_type": "stream",
     "text": [
      "/home/cutia/anaconda3/envs/datanest/lib/python3.12/site-packages/xgboost/core.py:158: UserWarning: [02:38:40] WARNING: /workspace/src/common/error_msg.cc:58: Falling back to prediction using DMatrix due to mismatched devices. This might lead to higher memory usage and slower performance. XGBoost is running on: cuda:0, while the input data is on: cpu.\n",
      "Potential solutions:\n",
      "- Use a data structure that matches the device ordinal in the booster.\n",
      "- Set the device for booster before call to inplace_predict.\n",
      "\n",
      "This warning will only be shown once.\n",
      "\n",
      "  warnings.warn(smsg, UserWarning)\n"
     ]
    },
    {
     "name": "stdout",
     "output_type": "stream",
     "text": [
      "[CV 3/5] END colsample_bytree=0.7332214831071802, device=gpu, enable_categorical=True, eval_metric=rmse, learning_rate=0.3, max_bin=604, max_depth=6, n_estimators=50, nthread=1, reg_lambda=0.23657626446788385, subsample=0.5372710843741004;, score=-2.015 total time=  13.2s\n",
      "[CV 5/5] END colsample_bytree=0.7070885730219072, device=gpu, enable_categorical=True, eval_metric=rmse, learning_rate=0.003, max_bin=758, max_depth=6, n_estimators=150, nthread=1, reg_lambda=1.7349076500952212, subsample=0.7482223770422871;, score=-3.640 total time=  26.2s\n",
      "[CV 4/5] END colsample_bytree=0.7332214831071802, device=gpu, enable_categorical=True, eval_metric=rmse, learning_rate=0.3, max_bin=604, max_depth=6, n_estimators=50, nthread=1, reg_lambda=0.23657626446788385, subsample=0.5372710843741004;, score=-2.713 total time=  14.2s\n",
      "[CV 1/5] END colsample_bytree=0.6104940330637568, device=gpu, enable_categorical=True, eval_metric=rmse, learning_rate=0.3, max_bin=692, max_depth=6, n_estimators=250, nthread=1, reg_lambda=1.4299689350947624, subsample=0.8663607934032294;, score=-3.334 total time=   8.8s\n",
      "[CV 5/5] END colsample_bytree=0.7332214831071802, device=gpu, enable_categorical=True, eval_metric=rmse, learning_rate=0.3, max_bin=604, max_depth=6, n_estimators=50, nthread=1, reg_lambda=0.23657626446788385, subsample=0.5372710843741004;, score=-3.440 total time=  19.2s\n",
      "[CV 2/5] END colsample_bytree=0.6104940330637568, device=gpu, enable_categorical=True, eval_metric=rmse, learning_rate=0.3, max_bin=692, max_depth=6, n_estimators=250, nthread=1, reg_lambda=1.4299689350947624, subsample=0.8663607934032294;, score=-2.307 total time=  14.2s\n",
      "[CV 3/5] END colsample_bytree=0.6104940330637568, device=gpu, enable_categorical=True, eval_metric=rmse, learning_rate=0.3, max_bin=692, max_depth=6, n_estimators=250, nthread=1, reg_lambda=1.4299689350947624, subsample=0.8663607934032294;, score=-2.108 total time=  20.6s\n",
      "[CV 1/5] END colsample_bytree=0.7869333074470299, device=gpu, enable_categorical=True, eval_metric=rmse, learning_rate=0.1, max_bin=736, max_depth=6, n_estimators=50, nthread=1, reg_lambda=1.7572307591985197, subsample=0.8821667050813138;, score=-2.629 total time=   8.4s\n",
      "[CV 2/5] END colsample_bytree=0.7869333074470299, device=gpu, enable_categorical=True, eval_metric=rmse, learning_rate=0.1, max_bin=736, max_depth=6, n_estimators=50, nthread=1, reg_lambda=1.7572307591985197, subsample=0.8821667050813138;, score=-2.179 total time=  10.6s\n",
      "[CV 3/5] END colsample_bytree=0.7869333074470299, device=gpu, enable_categorical=True, eval_metric=rmse, learning_rate=0.1, max_bin=736, max_depth=6, n_estimators=50, nthread=1, reg_lambda=1.7572307591985197, subsample=0.8821667050813138;, score=-1.931 total time=  13.0s\n",
      "[CV 4/5] END colsample_bytree=0.6104940330637568, device=gpu, enable_categorical=True, eval_metric=rmse, learning_rate=0.3, max_bin=692, max_depth=6, n_estimators=250, nthread=1, reg_lambda=1.4299689350947624, subsample=0.8663607934032294;, score=-3.001 total time=  29.3s\n",
      "[CV 5/5] END colsample_bytree=0.6104940330637568, device=gpu, enable_categorical=True, eval_metric=rmse, learning_rate=0.3, max_bin=692, max_depth=6, n_estimators=250, nthread=1, reg_lambda=1.4299689350947624, subsample=0.8663607934032294;, score=-3.295 total time=  32.0s\n",
      "[CV 4/5] END colsample_bytree=0.7869333074470299, device=gpu, enable_categorical=True, eval_metric=rmse, learning_rate=0.1, max_bin=736, max_depth=6, n_estimators=50, nthread=1, reg_lambda=1.7572307591985197, subsample=0.8821667050813138;, score=-2.683 total time=  15.2s\n",
      "[CV 5/5] END colsample_bytree=0.7869333074470299, device=gpu, enable_categorical=True, eval_metric=rmse, learning_rate=0.1, max_bin=736, max_depth=6, n_estimators=50, nthread=1, reg_lambda=1.7572307591985197, subsample=0.8821667050813138;, score=-3.391 total time=  16.7s\n",
      "[CV 1/5] END colsample_bytree=0.7063787441941539, device=gpu, enable_categorical=True, eval_metric=rmse, learning_rate=0.003, max_bin=616, max_depth=5, n_estimators=350, nthread=1, reg_lambda=0.6965604764937857, subsample=0.5653806822141754;, score=-2.892 total time=  12.8s\n",
      "[CV 2/5] END colsample_bytree=0.7063787441941539, device=gpu, enable_categorical=True, eval_metric=rmse, learning_rate=0.003, max_bin=616, max_depth=5, n_estimators=350, nthread=1, reg_lambda=0.6965604764937857, subsample=0.5653806822141754;, score=-1.900 total time=  15.7s\n",
      "[CV 3/5] END colsample_bytree=0.7063787441941539, device=gpu, enable_categorical=True, eval_metric=rmse, learning_rate=0.003, max_bin=616, max_depth=5, n_estimators=350, nthread=1, reg_lambda=0.6965604764937857, subsample=0.5653806822141754;, score=-2.080 total time=  31.6s\n",
      "[CV 1/5] END colsample_bytree=0.5529339210730545, device=gpu, enable_categorical=True, eval_metric=rmse, learning_rate=0.3, max_bin=287, max_depth=6, n_estimators=250, nthread=1, reg_lambda=0.11682575570890666, subsample=0.6457898122531671;, score=-3.573 total time=  24.6s\n",
      "[CV 4/5] END colsample_bytree=0.7063787441941539, device=gpu, enable_categorical=True, eval_metric=rmse, learning_rate=0.003, max_bin=616, max_depth=5, n_estimators=350, nthread=1, reg_lambda=0.6965604764937857, subsample=0.5653806822141754;, score=-2.923 total time=  38.3s\n",
      "[CV 2/5] END colsample_bytree=0.5529339210730545, device=gpu, enable_categorical=True, eval_metric=rmse, learning_rate=0.3, max_bin=287, max_depth=6, n_estimators=250, nthread=1, reg_lambda=0.11682575570890666, subsample=0.6457898122531671;, score=-2.862 total time=  27.9s\n",
      "[CV 5/5] END colsample_bytree=0.7063787441941539, device=gpu, enable_categorical=True, eval_metric=rmse, learning_rate=0.003, max_bin=616, max_depth=5, n_estimators=350, nthread=1, reg_lambda=0.6965604764937857, subsample=0.5653806822141754;, score=-3.468 total time=  40.1s\n",
      "[CV 1/5] END colsample_bytree=0.5390483509682606, device=gpu, enable_categorical=True, eval_metric=rmse, learning_rate=0.3, max_bin=654, max_depth=3, n_estimators=150, nthread=1, reg_lambda=0.34289818523544147, subsample=0.6285432052571551;, score=-3.476 total time=  10.8s\n",
      "[CV 3/5] END colsample_bytree=0.5529339210730545, device=gpu, enable_categorical=True, eval_metric=rmse, learning_rate=0.3, max_bin=287, max_depth=6, n_estimators=250, nthread=1, reg_lambda=0.11682575570890666, subsample=0.6457898122531671;, score=-2.776 total time=  22.9s\n",
      "[CV 2/5] END colsample_bytree=0.5390483509682606, device=gpu, enable_categorical=True, eval_metric=rmse, learning_rate=0.3, max_bin=654, max_depth=3, n_estimators=150, nthread=1, reg_lambda=0.34289818523544147, subsample=0.6285432052571551;, score=-2.410 total time=  15.1s\n",
      "[CV 4/5] END colsample_bytree=0.5529339210730545, device=gpu, enable_categorical=True, eval_metric=rmse, learning_rate=0.3, max_bin=287, max_depth=6, n_estimators=250, nthread=1, reg_lambda=0.11682575570890666, subsample=0.6457898122531671;, score=-3.113 total time=  30.6s\n",
      "[CV 3/5] END colsample_bytree=0.5390483509682606, device=gpu, enable_categorical=True, eval_metric=rmse, learning_rate=0.3, max_bin=654, max_depth=3, n_estimators=150, nthread=1, reg_lambda=0.34289818523544147, subsample=0.6285432052571551;, score=-2.061 total time=  16.2s\n",
      "[CV 1/5] END colsample_bytree=0.7188226826340915, device=gpu, enable_categorical=True, eval_metric=rmse, learning_rate=0.3, max_bin=266, max_depth=3, n_estimators=50, nthread=1, reg_lambda=0.38100222865572786, subsample=0.5129767551840836;, score=-2.575 total time=   6.5s\n",
      "[CV 5/5] END colsample_bytree=0.5529339210730545, device=gpu, enable_categorical=True, eval_metric=rmse, learning_rate=0.3, max_bin=287, max_depth=6, n_estimators=250, nthread=1, reg_lambda=0.11682575570890666, subsample=0.6457898122531671;, score=-3.422 total time=  34.0s\n",
      "[CV 4/5] END colsample_bytree=0.5390483509682606, device=gpu, enable_categorical=True, eval_metric=rmse, learning_rate=0.3, max_bin=654, max_depth=3, n_estimators=150, nthread=1, reg_lambda=0.34289818523544147, subsample=0.6285432052571551;, score=-2.858 total time=  18.2s\n",
      "[CV 2/5] END colsample_bytree=0.7188226826340915, device=gpu, enable_categorical=True, eval_metric=rmse, learning_rate=0.3, max_bin=266, max_depth=3, n_estimators=50, nthread=1, reg_lambda=0.38100222865572786, subsample=0.5129767551840836;, score=-2.404 total time=   8.5s\n",
      "[CV 5/5] END colsample_bytree=0.5390483509682606, device=gpu, enable_categorical=True, eval_metric=rmse, learning_rate=0.3, max_bin=654, max_depth=3, n_estimators=150, nthread=1, reg_lambda=0.34289818523544147, subsample=0.6285432052571551;, score=-3.378 total time=  18.8s\n",
      "[CV 1/5] END colsample_bytree=0.9852579462407528, device=gpu, enable_categorical=True, eval_metric=rmse, learning_rate=0.001, max_bin=624, max_depth=5, n_estimators=50, nthread=1, reg_lambda=1.0103116659297475, subsample=0.9193977021604558;, score=-4.006 total time=   6.4s\n",
      "[CV 3/5] END colsample_bytree=0.7188226826340915, device=gpu, enable_categorical=True, eval_metric=rmse, learning_rate=0.3, max_bin=266, max_depth=3, n_estimators=50, nthread=1, reg_lambda=0.38100222865572786, subsample=0.5129767551840836;, score=-2.003 total time=  11.5s\n",
      "[CV 2/5] END colsample_bytree=0.9852579462407528, device=gpu, enable_categorical=True, eval_metric=rmse, learning_rate=0.001, max_bin=624, max_depth=5, n_estimators=50, nthread=1, reg_lambda=1.0103116659297475, subsample=0.9193977021604558;, score=-3.029 total time=   9.4s\n",
      "[CV 4/5] END colsample_bytree=0.7188226826340915, device=gpu, enable_categorical=True, eval_metric=rmse, learning_rate=0.3, max_bin=266, max_depth=3, n_estimators=50, nthread=1, reg_lambda=0.38100222865572786, subsample=0.5129767551840836;, score=-3.060 total time=  15.6s\n",
      "[CV 5/5] END colsample_bytree=0.7188226826340915, device=gpu, enable_categorical=True, eval_metric=rmse, learning_rate=0.3, max_bin=266, max_depth=3, n_estimators=50, nthread=1, reg_lambda=0.38100222865572786, subsample=0.5129767551840836;, score=-3.446 total time=  18.1s\n",
      "[CV 3/5] END colsample_bytree=0.9852579462407528, device=gpu, enable_categorical=True, eval_metric=rmse, learning_rate=0.001, max_bin=624, max_depth=5, n_estimators=50, nthread=1, reg_lambda=1.0103116659297475, subsample=0.9193977021604558;, score=-2.941 total time=  12.3s\n",
      "[CV 1/5] END colsample_bytree=0.6195031011324241, device=gpu, enable_categorical=True, eval_metric=rmse, learning_rate=0.003, max_bin=660, max_depth=3, n_estimators=350, nthread=1, reg_lambda=0.6359406721940112, subsample=0.723197227962632;, score=-2.897 total time=   9.4s\n",
      "[CV 4/5] END colsample_bytree=0.9852579462407528, device=gpu, enable_categorical=True, eval_metric=rmse, learning_rate=0.001, max_bin=624, max_depth=5, n_estimators=50, nthread=1, reg_lambda=1.0103116659297475, subsample=0.9193977021604558;, score=-3.847 total time=  15.5s\n",
      "[CV 2/5] END colsample_bytree=0.6195031011324241, device=gpu, enable_categorical=True, eval_metric=rmse, learning_rate=0.003, max_bin=660, max_depth=3, n_estimators=350, nthread=1, reg_lambda=0.6359406721940112, subsample=0.723197227962632;, score=-1.928 total time=  11.7s\n",
      "[CV 5/5] END colsample_bytree=0.9852579462407528, device=gpu, enable_categorical=True, eval_metric=rmse, learning_rate=0.001, max_bin=624, max_depth=5, n_estimators=50, nthread=1, reg_lambda=1.0103116659297475, subsample=0.9193977021604558;, score=-3.843 total time=  17.1s\n",
      "[CV 1/5] END colsample_bytree=0.617733081320153, device=gpu, enable_categorical=True, eval_metric=rmse, learning_rate=0.003, max_bin=427, max_depth=4, n_estimators=150, nthread=1, reg_lambda=1.4442387605494749, subsample=0.5041303036836695;, score=-3.437 total time=   9.1s\n",
      "[CV 3/5] END colsample_bytree=0.6195031011324241, device=gpu, enable_categorical=True, eval_metric=rmse, learning_rate=0.003, max_bin=660, max_depth=3, n_estimators=350, nthread=1, reg_lambda=0.6359406721940112, subsample=0.723197227962632;, score=-2.117 total time=  17.3s\n",
      "[CV 2/5] END colsample_bytree=0.617733081320153, device=gpu, enable_categorical=True, eval_metric=rmse, learning_rate=0.003, max_bin=427, max_depth=4, n_estimators=150, nthread=1, reg_lambda=1.4442387605494749, subsample=0.5041303036836695;, score=-2.351 total time=  15.5s\n",
      "[CV 4/5] END colsample_bytree=0.6195031011324241, device=gpu, enable_categorical=True, eval_metric=rmse, learning_rate=0.003, max_bin=660, max_depth=3, n_estimators=350, nthread=1, reg_lambda=0.6359406721940112, subsample=0.723197227962632;, score=-2.964 total time=  34.9s\n",
      "[CV 3/5] END colsample_bytree=0.617733081320153, device=gpu, enable_categorical=True, eval_metric=rmse, learning_rate=0.003, max_bin=427, max_depth=4, n_estimators=150, nthread=1, reg_lambda=1.4442387605494749, subsample=0.5041303036836695;, score=-2.432 total time=  22.1s\n",
      "[CV 4/5] END colsample_bytree=0.617733081320153, device=gpu, enable_categorical=True, eval_metric=rmse, learning_rate=0.003, max_bin=427, max_depth=4, n_estimators=150, nthread=1, reg_lambda=1.4442387605494749, subsample=0.5041303036836695;, score=-3.321 total time=  25.1s\n",
      "[CV 5/5] END colsample_bytree=0.6195031011324241, device=gpu, enable_categorical=True, eval_metric=rmse, learning_rate=0.003, max_bin=660, max_depth=3, n_estimators=350, nthread=1, reg_lambda=0.6359406721940112, subsample=0.723197227962632;, score=-3.489 total time=  42.4s\n",
      "[CV 5/5] END colsample_bytree=0.617733081320153, device=gpu, enable_categorical=True, eval_metric=rmse, learning_rate=0.003, max_bin=427, max_depth=4, n_estimators=150, nthread=1, reg_lambda=1.4442387605494749, subsample=0.5041303036836695;, score=-3.641 total time=  24.4s\n",
      "[CV 1/5] END colsample_bytree=0.7753252820492743, device=gpu, enable_categorical=True, eval_metric=rmse, learning_rate=0.001, max_bin=503, max_depth=3, n_estimators=250, nthread=1, reg_lambda=0.6215349529732573, subsample=0.9159320330450694;, score=-3.666 total time=  14.6s\n",
      "[CV 2/5] END colsample_bytree=0.7753252820492743, device=gpu, enable_categorical=True, eval_metric=rmse, learning_rate=0.001, max_bin=503, max_depth=3, n_estimators=250, nthread=1, reg_lambda=0.6215349529732573, subsample=0.9159320330450694;, score=-2.627 total time=  15.4s\n",
      "[CV 3/5] END colsample_bytree=0.7753252820492743, device=gpu, enable_categorical=True, eval_metric=rmse, learning_rate=0.001, max_bin=503, max_depth=3, n_estimators=250, nthread=1, reg_lambda=0.6215349529732573, subsample=0.9159320330450694;, score=-2.664 total time=  15.6s\n",
      "[CV 4/5] END colsample_bytree=0.7753252820492743, device=gpu, enable_categorical=True, eval_metric=rmse, learning_rate=0.001, max_bin=503, max_depth=3, n_estimators=250, nthread=1, reg_lambda=0.6215349529732573, subsample=0.9159320330450694;, score=-3.554 total time=  23.1s\n",
      "[CV 1/5] END colsample_bytree=0.6758722304552238, device=gpu, enable_categorical=True, eval_metric=rmse, learning_rate=0.001, max_bin=764, max_depth=5, n_estimators=350, nthread=1, reg_lambda=2.023381041836978, subsample=0.9049262666653299;, score=-3.539 total time=  26.1s\n",
      "[CV 5/5] END colsample_bytree=0.7753252820492743, device=gpu, enable_categorical=True, eval_metric=rmse, learning_rate=0.001, max_bin=503, max_depth=3, n_estimators=250, nthread=1, reg_lambda=0.6215349529732573, subsample=0.9159320330450694;, score=-3.740 total time=  34.9s\n",
      "[CV 2/5] END colsample_bytree=0.6758722304552238, device=gpu, enable_categorical=True, eval_metric=rmse, learning_rate=0.001, max_bin=764, max_depth=5, n_estimators=350, nthread=1, reg_lambda=2.023381041836978, subsample=0.9049262666653299;, score=-2.483 total time=  34.9s\n",
      "[CV 3/5] END colsample_bytree=0.6758722304552238, device=gpu, enable_categorical=True, eval_metric=rmse, learning_rate=0.001, max_bin=764, max_depth=5, n_estimators=350, nthread=1, reg_lambda=2.023381041836978, subsample=0.9049262666653299;, score=-2.508 total time=  39.5s\n",
      "[CV 4/5] END colsample_bytree=0.6758722304552238, device=gpu, enable_categorical=True, eval_metric=rmse, learning_rate=0.001, max_bin=764, max_depth=5, n_estimators=350, nthread=1, reg_lambda=2.023381041836978, subsample=0.9049262666653299;, score=-3.413 total time=  43.2s\n",
      "[CV 1/5] END colsample_bytree=0.8833927233496073, device=gpu, enable_categorical=True, eval_metric=rmse, learning_rate=0.1, max_bin=640, max_depth=5, n_estimators=250, nthread=1, reg_lambda=1.4394332296815475, subsample=0.9733301451436236;, score=-2.880 total time=  26.8s\n",
      "[CV 2/5] END colsample_bytree=0.8833927233496073, device=gpu, enable_categorical=True, eval_metric=rmse, learning_rate=0.1, max_bin=640, max_depth=5, n_estimators=250, nthread=1, reg_lambda=1.4394332296815475, subsample=0.9733301451436236;, score=-2.250 total time=  28.9s\n",
      "[CV 5/5] END colsample_bytree=0.6758722304552238, device=gpu, enable_categorical=True, eval_metric=rmse, learning_rate=0.001, max_bin=764, max_depth=5, n_estimators=350, nthread=1, reg_lambda=2.023381041836978, subsample=0.9049262666653299;, score=-3.678 total time=  46.8s\n",
      "[CV 3/5] END colsample_bytree=0.8833927233496073, device=gpu, enable_categorical=True, eval_metric=rmse, learning_rate=0.1, max_bin=640, max_depth=5, n_estimators=250, nthread=1, reg_lambda=1.4394332296815475, subsample=0.9733301451436236;, score=-1.951 total time=  28.9s\n",
      "[CV 1/5] END colsample_bytree=0.5602703402198307, device=gpu, enable_categorical=True, eval_metric=rmse, learning_rate=0.003, max_bin=467, max_depth=4, n_estimators=50, nthread=1, reg_lambda=0.6444843380788886, subsample=0.5002126708255701;, score=-3.829 total time=   7.8s\n",
      "[CV 2/5] END colsample_bytree=0.5602703402198307, device=gpu, enable_categorical=True, eval_metric=rmse, learning_rate=0.003, max_bin=467, max_depth=4, n_estimators=50, nthread=1, reg_lambda=0.6444843380788886, subsample=0.5002126708255701;, score=-2.813 total time=  10.6s\n",
      "[CV 3/5] END colsample_bytree=0.5602703402198307, device=gpu, enable_categorical=True, eval_metric=rmse, learning_rate=0.003, max_bin=467, max_depth=4, n_estimators=50, nthread=1, reg_lambda=0.6444843380788886, subsample=0.5002126708255701;, score=-2.801 total time=  14.6s\n",
      "[CV 4/5] END colsample_bytree=0.5602703402198307, device=gpu, enable_categorical=True, eval_metric=rmse, learning_rate=0.003, max_bin=467, max_depth=4, n_estimators=50, nthread=1, reg_lambda=0.6444843380788886, subsample=0.5002126708255701;, score=-3.685 total time=  17.5s\n",
      "[CV 4/5] END colsample_bytree=0.8833927233496073, device=gpu, enable_categorical=True, eval_metric=rmse, learning_rate=0.1, max_bin=640, max_depth=5, n_estimators=250, nthread=1, reg_lambda=1.4394332296815475, subsample=0.9733301451436236;, score=-2.691 total time=  32.9s\n",
      "[CV 5/5] END colsample_bytree=0.8833927233496073, device=gpu, enable_categorical=True, eval_metric=rmse, learning_rate=0.1, max_bin=640, max_depth=5, n_estimators=250, nthread=1, reg_lambda=1.4394332296815475, subsample=0.9733301451436236;, score=-3.334 total time=  34.7s\n",
      "[CV 1/5] END colsample_bytree=0.5022338744106108, device=gpu, enable_categorical=True, eval_metric=rmse, learning_rate=0.03, max_bin=562, max_depth=3, n_estimators=250, nthread=1, reg_lambda=0.22240135955225396, subsample=0.5208079981160372;, score=-2.567 total time=   7.1s\n",
      "[CV 5/5] END colsample_bytree=0.5602703402198307, device=gpu, enable_categorical=True, eval_metric=rmse, learning_rate=0.003, max_bin=467, max_depth=4, n_estimators=50, nthread=1, reg_lambda=0.6444843380788886, subsample=0.5002126708255701;, score=-3.780 total time=  15.7s\n",
      "[CV 2/5] END colsample_bytree=0.5022338744106108, device=gpu, enable_categorical=True, eval_metric=rmse, learning_rate=0.03, max_bin=562, max_depth=3, n_estimators=250, nthread=1, reg_lambda=0.22240135955225396, subsample=0.5208079981160372;, score=-2.283 total time=  11.0s\n",
      "[CV 3/5] END colsample_bytree=0.5022338744106108, device=gpu, enable_categorical=True, eval_metric=rmse, learning_rate=0.03, max_bin=562, max_depth=3, n_estimators=250, nthread=1, reg_lambda=0.22240135955225396, subsample=0.5208079981160372;, score=-1.923 total time=  17.7s\n",
      "[CV 1/5] END colsample_bytree=0.8252257478253981, device=gpu, enable_categorical=True, eval_metric=rmse, learning_rate=0.001, max_bin=428, max_depth=5, n_estimators=250, nthread=1, reg_lambda=1.340012989984256, subsample=0.591398954789764;, score=-3.671 total time=  14.2s\n",
      "[CV 4/5] END colsample_bytree=0.5022338744106108, device=gpu, enable_categorical=True, eval_metric=rmse, learning_rate=0.03, max_bin=562, max_depth=3, n_estimators=250, nthread=1, reg_lambda=0.22240135955225396, subsample=0.5208079981160372;, score=-2.730 total time=  27.3s\n",
      "[CV 2/5] END colsample_bytree=0.8252257478253981, device=gpu, enable_categorical=True, eval_metric=rmse, learning_rate=0.001, max_bin=428, max_depth=5, n_estimators=250, nthread=1, reg_lambda=1.340012989984256, subsample=0.591398954789764;, score=-2.629 total time=  25.0s\n",
      "[CV 5/5] END colsample_bytree=0.5022338744106108, device=gpu, enable_categorical=True, eval_metric=rmse, learning_rate=0.03, max_bin=562, max_depth=3, n_estimators=250, nthread=1, reg_lambda=0.22240135955225396, subsample=0.5208079981160372;, score=-3.381 total time=  32.3s\n",
      "[CV 3/5] END colsample_bytree=0.8252257478253981, device=gpu, enable_categorical=True, eval_metric=rmse, learning_rate=0.001, max_bin=428, max_depth=5, n_estimators=250, nthread=1, reg_lambda=1.340012989984256, subsample=0.591398954789764;, score=-2.633 total time=  24.1s\n",
      "[CV 4/5] END colsample_bytree=0.8252257478253981, device=gpu, enable_categorical=True, eval_metric=rmse, learning_rate=0.001, max_bin=428, max_depth=5, n_estimators=250, nthread=1, reg_lambda=1.340012989984256, subsample=0.591398954789764;, score=-3.541 total time=  25.1s\n",
      "[CV 1/5] END colsample_bytree=0.9820423924039108, device=gpu, enable_categorical=True, eval_metric=rmse, learning_rate=0.1, max_bin=417, max_depth=5, n_estimators=350, nthread=1, reg_lambda=0.7270669698785733, subsample=0.8375187635629049;, score=-3.832 total time=  26.5s\n",
      "[CV 5/5] END colsample_bytree=0.8252257478253981, device=gpu, enable_categorical=True, eval_metric=rmse, learning_rate=0.001, max_bin=428, max_depth=5, n_estimators=250, nthread=1, reg_lambda=1.340012989984256, subsample=0.591398954789764;, score=-3.729 total time=  33.3s\n",
      "[CV 2/5] END colsample_bytree=0.9820423924039108, device=gpu, enable_categorical=True, eval_metric=rmse, learning_rate=0.1, max_bin=417, max_depth=5, n_estimators=350, nthread=1, reg_lambda=0.7270669698785733, subsample=0.8375187635629049;, score=-2.259 total time=  31.1s\n",
      "[CV 3/5] END colsample_bytree=0.9820423924039108, device=gpu, enable_categorical=True, eval_metric=rmse, learning_rate=0.1, max_bin=417, max_depth=5, n_estimators=350, nthread=1, reg_lambda=0.7270669698785733, subsample=0.8375187635629049;, score=-1.962 total time=  32.0s\n",
      "[CV 4/5] END colsample_bytree=0.9820423924039108, device=gpu, enable_categorical=True, eval_metric=rmse, learning_rate=0.1, max_bin=417, max_depth=5, n_estimators=350, nthread=1, reg_lambda=0.7270669698785733, subsample=0.8375187635629049;, score=-2.694 total time=  33.8s\n",
      "[CV 1/5] END colsample_bytree=0.5193397198851042, device=gpu, enable_categorical=True, eval_metric=rmse, learning_rate=0.3, max_bin=380, max_depth=6, n_estimators=350, nthread=1, reg_lambda=2.0051291576864907, subsample=0.9347275688914818;, score=-3.131 total time=  27.1s\n",
      "[CV 2/5] END colsample_bytree=0.5193397198851042, device=gpu, enable_categorical=True, eval_metric=rmse, learning_rate=0.3, max_bin=380, max_depth=6, n_estimators=350, nthread=1, reg_lambda=2.0051291576864907, subsample=0.9347275688914818;, score=-2.602 total time=  35.1s\n",
      "[CV 5/5] END colsample_bytree=0.9820423924039108, device=gpu, enable_categorical=True, eval_metric=rmse, learning_rate=0.1, max_bin=417, max_depth=5, n_estimators=350, nthread=1, reg_lambda=0.7270669698785733, subsample=0.8375187635629049;, score=-3.317 total time=  45.1s\n",
      "[CV 1/5] END colsample_bytree=0.9694109646646963, device=gpu, enable_categorical=True, eval_metric=rmse, learning_rate=0.003, max_bin=767, max_depth=3, n_estimators=50, nthread=1, reg_lambda=0.8819092491071746, subsample=0.9459554484764539;, score=-3.826 total time=   7.4s\n",
      "[CV 3/5] END colsample_bytree=0.5193397198851042, device=gpu, enable_categorical=True, eval_metric=rmse, learning_rate=0.3, max_bin=380, max_depth=6, n_estimators=350, nthread=1, reg_lambda=2.0051291576864907, subsample=0.9347275688914818;, score=-2.232 total time=  40.6s\n",
      "[CV 2/5] END colsample_bytree=0.9694109646646963, device=gpu, enable_categorical=True, eval_metric=rmse, learning_rate=0.003, max_bin=767, max_depth=3, n_estimators=50, nthread=1, reg_lambda=0.8819092491071746, subsample=0.9459554484764539;, score=-2.818 total time=   9.4s\n",
      "[CV 3/5] END colsample_bytree=0.9694109646646963, device=gpu, enable_categorical=True, eval_metric=rmse, learning_rate=0.003, max_bin=767, max_depth=3, n_estimators=50, nthread=1, reg_lambda=0.8819092491071746, subsample=0.9459554484764539;, score=-2.784 total time=  11.8s\n",
      "[CV 4/5] END colsample_bytree=0.5193397198851042, device=gpu, enable_categorical=True, eval_metric=rmse, learning_rate=0.3, max_bin=380, max_depth=6, n_estimators=350, nthread=1, reg_lambda=2.0051291576864907, subsample=0.9347275688914818;, score=-2.794 total time=  42.6s\n",
      "[CV 5/5] END colsample_bytree=0.5193397198851042, device=gpu, enable_categorical=True, eval_metric=rmse, learning_rate=0.3, max_bin=380, max_depth=6, n_estimators=350, nthread=1, reg_lambda=2.0051291576864907, subsample=0.9347275688914818;, score=-3.298 total time=  37.4s\n",
      "[CV 1/5] END colsample_bytree=0.8140313385508977, device=gpu, enable_categorical=True, eval_metric=rmse, learning_rate=0.3, max_bin=545, max_depth=6, n_estimators=50, nthread=1, reg_lambda=0.12041070587727312, subsample=0.8248027814439944;, score=-3.650 total time=   6.8s\n",
      "[CV 4/5] END colsample_bytree=0.9694109646646963, device=gpu, enable_categorical=True, eval_metric=rmse, learning_rate=0.003, max_bin=767, max_depth=3, n_estimators=50, nthread=1, reg_lambda=0.8819092491071746, subsample=0.9459554484764539;, score=-3.689 total time=  14.5s\n",
      "[CV 2/5] END colsample_bytree=0.8140313385508977, device=gpu, enable_categorical=True, eval_metric=rmse, learning_rate=0.3, max_bin=545, max_depth=6, n_estimators=50, nthread=1, reg_lambda=0.12041070587727312, subsample=0.8248027814439944;, score=-2.301 total time=   8.5s\n",
      "[CV 5/5] END colsample_bytree=0.9694109646646963, device=gpu, enable_categorical=True, eval_metric=rmse, learning_rate=0.003, max_bin=767, max_depth=3, n_estimators=50, nthread=1, reg_lambda=0.8819092491071746, subsample=0.9459554484764539;, score=-3.802 total time=  18.4s\n",
      "[CV 1/5] END colsample_bytree=0.9378007237830712, device=gpu, enable_categorical=True, eval_metric=rmse, learning_rate=0.3, max_bin=756, max_depth=6, n_estimators=50, nthread=1, reg_lambda=1.6255157088292722, subsample=0.5224689021524165;, score=-3.264 total time=   6.0s\n",
      "[CV 3/5] END colsample_bytree=0.8140313385508977, device=gpu, enable_categorical=True, eval_metric=rmse, learning_rate=0.3, max_bin=545, max_depth=6, n_estimators=50, nthread=1, reg_lambda=0.12041070587727312, subsample=0.8248027814439944;, score=-1.990 total time=  12.9s\n",
      "[CV 4/5] END colsample_bytree=0.8140313385508977, device=gpu, enable_categorical=True, eval_metric=rmse, learning_rate=0.3, max_bin=545, max_depth=6, n_estimators=50, nthread=1, reg_lambda=0.12041070587727312, subsample=0.8248027814439944;, score=-3.159 total time=  16.2s\n",
      "[CV 2/5] END colsample_bytree=0.9378007237830712, device=gpu, enable_categorical=True, eval_metric=rmse, learning_rate=0.3, max_bin=756, max_depth=6, n_estimators=50, nthread=1, reg_lambda=1.6255157088292722, subsample=0.5224689021524165;, score=-2.253 total time=   9.8s\n",
      "[CV 5/5] END colsample_bytree=0.8140313385508977, device=gpu, enable_categorical=True, eval_metric=rmse, learning_rate=0.3, max_bin=545, max_depth=6, n_estimators=50, nthread=1, reg_lambda=0.12041070587727312, subsample=0.8248027814439944;, score=-3.450 total time=  19.5s\n",
      "[CV 3/5] END colsample_bytree=0.9378007237830712, device=gpu, enable_categorical=True, eval_metric=rmse, learning_rate=0.3, max_bin=756, max_depth=6, n_estimators=50, nthread=1, reg_lambda=1.6255157088292722, subsample=0.5224689021524165;, score=-2.097 total time=  12.3s\n",
      "[CV 1/5] END colsample_bytree=0.5323173898248197, device=gpu, enable_categorical=True, eval_metric=rmse, learning_rate=0.3, max_bin=434, max_depth=4, n_estimators=250, nthread=1, reg_lambda=1.4854921244343087, subsample=0.8919292176982904;, score=-3.186 total time=   7.3s\n",
      "[CV 4/5] END colsample_bytree=0.9378007237830712, device=gpu, enable_categorical=True, eval_metric=rmse, learning_rate=0.3, max_bin=756, max_depth=6, n_estimators=50, nthread=1, reg_lambda=1.6255157088292722, subsample=0.5224689021524165;, score=-2.678 total time=  15.3s\n",
      "[CV 2/5] END colsample_bytree=0.5323173898248197, device=gpu, enable_categorical=True, eval_metric=rmse, learning_rate=0.3, max_bin=434, max_depth=4, n_estimators=250, nthread=1, reg_lambda=1.4854921244343087, subsample=0.8919292176982904;, score=-2.729 total time=  11.7s\n",
      "[CV 5/5] END colsample_bytree=0.9378007237830712, device=gpu, enable_categorical=True, eval_metric=rmse, learning_rate=0.3, max_bin=756, max_depth=6, n_estimators=50, nthread=1, reg_lambda=1.6255157088292722, subsample=0.5224689021524165;, score=-3.551 total time=  20.3s\n",
      "[CV 3/5] END colsample_bytree=0.5323173898248197, device=gpu, enable_categorical=True, eval_metric=rmse, learning_rate=0.3, max_bin=434, max_depth=4, n_estimators=250, nthread=1, reg_lambda=1.4854921244343087, subsample=0.8919292176982904;, score=-2.157 total time=  19.6s\n",
      "[CV 4/5] END colsample_bytree=0.5323173898248197, device=gpu, enable_categorical=True, eval_metric=rmse, learning_rate=0.3, max_bin=434, max_depth=4, n_estimators=250, nthread=1, reg_lambda=1.4854921244343087, subsample=0.8919292176982904;, score=-2.702 total time=  31.1s\n",
      "[CV 1/5] END colsample_bytree=0.9019572909867937, device=gpu, enable_categorical=True, eval_metric=rmse, learning_rate=0.001, max_bin=450, max_depth=5, n_estimators=350, nthread=1, reg_lambda=2.0492657695718837, subsample=0.7954447842501775;, score=-3.541 total time=  27.1s\n",
      "[CV 5/5] END colsample_bytree=0.5323173898248197, device=gpu, enable_categorical=True, eval_metric=rmse, learning_rate=0.3, max_bin=434, max_depth=4, n_estimators=250, nthread=1, reg_lambda=1.4854921244343087, subsample=0.8919292176982904;, score=-3.322 total time=  33.7s\n",
      "[CV 2/5] END colsample_bytree=0.9019572909867937, device=gpu, enable_categorical=True, eval_metric=rmse, learning_rate=0.001, max_bin=450, max_depth=5, n_estimators=350, nthread=1, reg_lambda=2.0492657695718837, subsample=0.7954447842501775;, score=-2.487 total time=  27.9s\n",
      "[CV 3/5] END colsample_bytree=0.9019572909867937, device=gpu, enable_categorical=True, eval_metric=rmse, learning_rate=0.001, max_bin=450, max_depth=5, n_estimators=350, nthread=1, reg_lambda=2.0492657695718837, subsample=0.7954447842501775;, score=-2.500 total time=  25.4s\n",
      "[CV 1/5] END colsample_bytree=0.7994164471528569, device=gpu, enable_categorical=True, eval_metric=rmse, learning_rate=0.3, max_bin=704, max_depth=5, n_estimators=50, nthread=1, reg_lambda=0.4212145549746992, subsample=0.5063235546913136;, score=-3.125 total time=   6.2s\n",
      "[CV 2/5] END colsample_bytree=0.7994164471528569, device=gpu, enable_categorical=True, eval_metric=rmse, learning_rate=0.3, max_bin=704, max_depth=5, n_estimators=50, nthread=1, reg_lambda=0.4212145549746992, subsample=0.5063235546913136;, score=-2.407 total time=   9.6s\n",
      "[CV 4/5] END colsample_bytree=0.9019572909867937, device=gpu, enable_categorical=True, eval_metric=rmse, learning_rate=0.001, max_bin=450, max_depth=5, n_estimators=350, nthread=1, reg_lambda=2.0492657695718837, subsample=0.7954447842501775;, score=-3.412 total time=  22.6s\n",
      "[CV 3/5] END colsample_bytree=0.7994164471528569, device=gpu, enable_categorical=True, eval_metric=rmse, learning_rate=0.3, max_bin=704, max_depth=5, n_estimators=50, nthread=1, reg_lambda=0.4212145549746992, subsample=0.5063235546913136;, score=-2.025 total time=  13.0s\n",
      "[CV 4/5] END colsample_bytree=0.7994164471528569, device=gpu, enable_categorical=True, eval_metric=rmse, learning_rate=0.3, max_bin=704, max_depth=5, n_estimators=50, nthread=1, reg_lambda=0.4212145549746992, subsample=0.5063235546913136;, score=-2.838 total time=  15.7s\n",
      "[CV 5/5] END colsample_bytree=0.9019572909867937, device=gpu, enable_categorical=True, eval_metric=rmse, learning_rate=0.001, max_bin=450, max_depth=5, n_estimators=350, nthread=1, reg_lambda=2.0492657695718837, subsample=0.7954447842501775;, score=-3.694 total time=  35.1s\n",
      "[CV 5/5] END colsample_bytree=0.7994164471528569, device=gpu, enable_categorical=True, eval_metric=rmse, learning_rate=0.3, max_bin=704, max_depth=5, n_estimators=50, nthread=1, reg_lambda=0.4212145549746992, subsample=0.5063235546913136;, score=-3.398 total time=  19.4s\n",
      "[CV 1/5] END colsample_bytree=0.8021593192587639, device=gpu, enable_categorical=True, eval_metric=rmse, learning_rate=0.1, max_bin=647, max_depth=5, n_estimators=350, nthread=1, reg_lambda=0.15564705307046026, subsample=0.6128640099719112;, score=-3.037 total time=  21.7s\n",
      "[CV 2/5] END colsample_bytree=0.8021593192587639, device=gpu, enable_categorical=True, eval_metric=rmse, learning_rate=0.1, max_bin=647, max_depth=5, n_estimators=350, nthread=1, reg_lambda=0.15564705307046026, subsample=0.6128640099719112;, score=-2.375 total time=  24.3s\n",
      "[CV 3/5] END colsample_bytree=0.8021593192587639, device=gpu, enable_categorical=True, eval_metric=rmse, learning_rate=0.1, max_bin=647, max_depth=5, n_estimators=350, nthread=1, reg_lambda=0.15564705307046026, subsample=0.6128640099719112;, score=-1.966 total time=  23.5s\n",
      "[CV 1/5] END colsample_bytree=0.6730750111490622, device=gpu, enable_categorical=True, eval_metric=rmse, learning_rate=0.03, max_bin=449, max_depth=4, n_estimators=150, nthread=1, reg_lambda=1.3137193154044777, subsample=0.6754453063628203;, score=-2.558 total time=   9.2s\n",
      "[CV 2/5] END colsample_bytree=0.6730750111490622, device=gpu, enable_categorical=True, eval_metric=rmse, learning_rate=0.03, max_bin=449, max_depth=4, n_estimators=150, nthread=1, reg_lambda=1.3137193154044777, subsample=0.6754453063628203;, score=-2.161 total time=  17.1s\n",
      "[CV 3/5] END colsample_bytree=0.6730750111490622, device=gpu, enable_categorical=True, eval_metric=rmse, learning_rate=0.03, max_bin=449, max_depth=4, n_estimators=150, nthread=1, reg_lambda=1.3137193154044777, subsample=0.6754453063628203;, score=-1.921 total time=  22.9s\n",
      "[CV 4/5] END colsample_bytree=0.8021593192587639, device=gpu, enable_categorical=True, eval_metric=rmse, learning_rate=0.1, max_bin=647, max_depth=5, n_estimators=350, nthread=1, reg_lambda=0.15564705307046026, subsample=0.6128640099719112;, score=-2.844 total time=  37.9s\n",
      "[CV 4/5] END colsample_bytree=0.6730750111490622, device=gpu, enable_categorical=True, eval_metric=rmse, learning_rate=0.03, max_bin=449, max_depth=4, n_estimators=150, nthread=1, reg_lambda=1.3137193154044777, subsample=0.6754453063628203;, score=-2.706 total time=  23.9s\n",
      "[CV 5/5] END colsample_bytree=0.8021593192587639, device=gpu, enable_categorical=True, eval_metric=rmse, learning_rate=0.1, max_bin=647, max_depth=5, n_estimators=350, nthread=1, reg_lambda=0.15564705307046026, subsample=0.6128640099719112;, score=-3.349 total time=  41.5s\n",
      "[CV 5/5] END colsample_bytree=0.6730750111490622, device=gpu, enable_categorical=True, eval_metric=rmse, learning_rate=0.03, max_bin=449, max_depth=4, n_estimators=150, nthread=1, reg_lambda=1.3137193154044777, subsample=0.6754453063628203;, score=-3.373 total time=  19.7s\n",
      "[CV 1/5] END colsample_bytree=0.9454476584752856, device=gpu, enable_categorical=True, eval_metric=rmse, learning_rate=0.3, max_bin=377, max_depth=4, n_estimators=250, nthread=1, reg_lambda=0.767292993702224, subsample=0.7860522752142264;, score=-4.309 total time=  12.8s\n",
      "[CV 2/5] END colsample_bytree=0.9454476584752856, device=gpu, enable_categorical=True, eval_metric=rmse, learning_rate=0.3, max_bin=377, max_depth=4, n_estimators=250, nthread=1, reg_lambda=0.767292993702224, subsample=0.7860522752142264;, score=-2.273 total time=  14.4s\n",
      "[CV 3/5] END colsample_bytree=0.9454476584752856, device=gpu, enable_categorical=True, eval_metric=rmse, learning_rate=0.3, max_bin=377, max_depth=4, n_estimators=250, nthread=1, reg_lambda=0.767292993702224, subsample=0.7860522752142264;, score=-2.023 total time=  18.4s\n",
      "[CV 4/5] END colsample_bytree=0.9454476584752856, device=gpu, enable_categorical=True, eval_metric=rmse, learning_rate=0.3, max_bin=377, max_depth=4, n_estimators=250, nthread=1, reg_lambda=0.767292993702224, subsample=0.7860522752142264;, score=-2.747 total time=  24.4s\n",
      "[CV 1/5] END colsample_bytree=0.7204568488438449, device=gpu, enable_categorical=True, eval_metric=rmse, learning_rate=0.1, max_bin=599, max_depth=4, n_estimators=350, nthread=1, reg_lambda=0.1561471726672178, subsample=0.5704495742925177;, score=-3.053 total time=  22.5s\n",
      "[CV 5/5] END colsample_bytree=0.9454476584752856, device=gpu, enable_categorical=True, eval_metric=rmse, learning_rate=0.3, max_bin=377, max_depth=4, n_estimators=250, nthread=1, reg_lambda=0.767292993702224, subsample=0.7860522752142264;, score=-3.371 total time=  32.7s\n",
      "[CV 2/5] END colsample_bytree=0.7204568488438449, device=gpu, enable_categorical=True, eval_metric=rmse, learning_rate=0.1, max_bin=599, max_depth=4, n_estimators=350, nthread=1, reg_lambda=0.1561471726672178, subsample=0.5704495742925177;, score=-2.450 total time=  28.2s\n",
      "[CV 3/5] END colsample_bytree=0.7204568488438449, device=gpu, enable_categorical=True, eval_metric=rmse, learning_rate=0.1, max_bin=599, max_depth=4, n_estimators=350, nthread=1, reg_lambda=0.1561471726672178, subsample=0.5704495742925177;, score=-1.991 total time=  29.7s\n",
      "[CV 4/5] END colsample_bytree=0.7204568488438449, device=gpu, enable_categorical=True, eval_metric=rmse, learning_rate=0.1, max_bin=599, max_depth=4, n_estimators=350, nthread=1, reg_lambda=0.1561471726672178, subsample=0.5704495742925177;, score=-2.642 total time=  35.1s\n",
      "[CV 1/5] END colsample_bytree=0.5773393392876628, device=gpu, enable_categorical=True, eval_metric=rmse, learning_rate=0.3, max_bin=277, max_depth=3, n_estimators=350, nthread=1, reg_lambda=0.4976420313620905, subsample=0.8434302090636326;, score=-3.306 total time=  26.3s\n",
      "[CV 2/5] END colsample_bytree=0.5773393392876628, device=gpu, enable_categorical=True, eval_metric=rmse, learning_rate=0.3, max_bin=277, max_depth=3, n_estimators=350, nthread=1, reg_lambda=0.4976420313620905, subsample=0.8434302090636326;, score=-2.340 total time=  28.6s\n",
      "[CV 5/5] END colsample_bytree=0.7204568488438449, device=gpu, enable_categorical=True, eval_metric=rmse, learning_rate=0.1, max_bin=599, max_depth=4, n_estimators=350, nthread=1, reg_lambda=0.1561471726672178, subsample=0.5704495742925177;, score=-3.415 total time=  40.4s\n",
      "[CV 3/5] END colsample_bytree=0.5773393392876628, device=gpu, enable_categorical=True, eval_metric=rmse, learning_rate=0.3, max_bin=277, max_depth=3, n_estimators=350, nthread=1, reg_lambda=0.4976420313620905, subsample=0.8434302090636326;, score=-1.913 total time=  26.6s\n",
      "[CV 1/5] END colsample_bytree=0.720513557101903, device=gpu, enable_categorical=True, eval_metric=rmse, learning_rate=0.03, max_bin=462, max_depth=6, n_estimators=150, nthread=1, reg_lambda=0.859973258723579, subsample=0.870142619948965;, score=-2.734 total time=  10.7s\n",
      "[CV 4/5] END colsample_bytree=0.5773393392876628, device=gpu, enable_categorical=True, eval_metric=rmse, learning_rate=0.3, max_bin=277, max_depth=3, n_estimators=350, nthread=1, reg_lambda=0.4976420313620905, subsample=0.8434302090636326;, score=-2.944 total time=  23.1s\n",
      "[CV 2/5] END colsample_bytree=0.720513557101903, device=gpu, enable_categorical=True, eval_metric=rmse, learning_rate=0.03, max_bin=462, max_depth=6, n_estimators=150, nthread=1, reg_lambda=0.859973258723579, subsample=0.870142619948965;, score=-2.164 total time=  17.3s\n",
      "[CV 3/5] END colsample_bytree=0.720513557101903, device=gpu, enable_categorical=True, eval_metric=rmse, learning_rate=0.03, max_bin=462, max_depth=6, n_estimators=150, nthread=1, reg_lambda=0.859973258723579, subsample=0.870142619948965;, score=-1.934 total time=  20.2s\n",
      "[CV 5/5] END colsample_bytree=0.5773393392876628, device=gpu, enable_categorical=True, eval_metric=rmse, learning_rate=0.3, max_bin=277, max_depth=3, n_estimators=350, nthread=1, reg_lambda=0.4976420313620905, subsample=0.8434302090636326;, score=-3.371 total time=  37.3s\n",
      "[CV 4/5] END colsample_bytree=0.720513557101903, device=gpu, enable_categorical=True, eval_metric=rmse, learning_rate=0.03, max_bin=462, max_depth=6, n_estimators=150, nthread=1, reg_lambda=0.859973258723579, subsample=0.870142619948965;, score=-2.700 total time=  24.8s\n",
      "[CV 5/5] END colsample_bytree=0.720513557101903, device=gpu, enable_categorical=True, eval_metric=rmse, learning_rate=0.03, max_bin=462, max_depth=6, n_estimators=150, nthread=1, reg_lambda=0.859973258723579, subsample=0.870142619948965;, score=-3.337 total time=  26.8s\n",
      "[CV 1/5] END colsample_bytree=0.7502054410654428, device=gpu, enable_categorical=True, eval_metric=rmse, learning_rate=0.01, max_bin=620, max_depth=3, n_estimators=350, nthread=1, reg_lambda=0.625650240649613, subsample=0.9815879277600021;, score=-2.537 total time=  22.4s\n",
      "[CV 2/5] END colsample_bytree=0.7502054410654428, device=gpu, enable_categorical=True, eval_metric=rmse, learning_rate=0.01, max_bin=620, max_depth=3, n_estimators=350, nthread=1, reg_lambda=0.625650240649613, subsample=0.9815879277600021;, score=-2.121 total time=  19.2s\n",
      "[CV 1/5] END colsample_bytree=0.8635452802238718, device=gpu, enable_categorical=True, eval_metric=rmse, learning_rate=0.03, max_bin=724, max_depth=3, n_estimators=50, nthread=1, reg_lambda=0.10776156097457182, subsample=0.504086249989969;, score=-2.707 total time=   7.5s\n",
      "[CV 2/5] END colsample_bytree=0.8635452802238718, device=gpu, enable_categorical=True, eval_metric=rmse, learning_rate=0.03, max_bin=724, max_depth=3, n_estimators=50, nthread=1, reg_lambda=0.10776156097457182, subsample=0.504086249989969;, score=-1.914 total time=  10.4s\n",
      "[CV 3/5] END colsample_bytree=0.7502054410654428, device=gpu, enable_categorical=True, eval_metric=rmse, learning_rate=0.01, max_bin=620, max_depth=3, n_estimators=350, nthread=1, reg_lambda=0.625650240649613, subsample=0.9815879277600021;, score=-1.938 total time=  20.5s\n",
      "[CV 4/5] END colsample_bytree=0.7502054410654428, device=gpu, enable_categorical=True, eval_metric=rmse, learning_rate=0.01, max_bin=620, max_depth=3, n_estimators=350, nthread=1, reg_lambda=0.625650240649613, subsample=0.9815879277600021;, score=-2.723 total time=  24.0s\n",
      "[CV 3/5] END colsample_bytree=0.8635452802238718, device=gpu, enable_categorical=True, eval_metric=rmse, learning_rate=0.03, max_bin=724, max_depth=3, n_estimators=50, nthread=1, reg_lambda=0.10776156097457182, subsample=0.504086249989969;, score=-1.989 total time=  12.3s\n",
      "[CV 5/5] END colsample_bytree=0.7502054410654428, device=gpu, enable_categorical=True, eval_metric=rmse, learning_rate=0.01, max_bin=620, max_depth=3, n_estimators=350, nthread=1, reg_lambda=0.625650240649613, subsample=0.9815879277600021;, score=-3.394 total time=  28.9s\n",
      "[CV 4/5] END colsample_bytree=0.8635452802238718, device=gpu, enable_categorical=True, eval_metric=rmse, learning_rate=0.03, max_bin=724, max_depth=3, n_estimators=50, nthread=1, reg_lambda=0.10776156097457182, subsample=0.504086249989969;, score=-2.827 total time=  16.1s\n",
      "[CV 5/5] END colsample_bytree=0.8635452802238718, device=gpu, enable_categorical=True, eval_metric=rmse, learning_rate=0.03, max_bin=724, max_depth=3, n_estimators=50, nthread=1, reg_lambda=0.10776156097457182, subsample=0.504086249989969;, score=-3.442 total time=  18.2s\n",
      "[CV 1/5] END colsample_bytree=0.9232867038314249, device=gpu, enable_categorical=True, eval_metric=rmse, learning_rate=0.001, max_bin=291, max_depth=6, n_estimators=350, nthread=1, reg_lambda=0.5665850173050143, subsample=0.7470874792153772;, score=-3.494 total time=  17.8s\n",
      "[CV 2/5] END colsample_bytree=0.9232867038314249, device=gpu, enable_categorical=True, eval_metric=rmse, learning_rate=0.001, max_bin=291, max_depth=6, n_estimators=350, nthread=1, reg_lambda=0.5665850173050143, subsample=0.7470874792153772;, score=-2.425 total time=  17.6s\n",
      "[CV 3/5] END colsample_bytree=0.9232867038314249, device=gpu, enable_categorical=True, eval_metric=rmse, learning_rate=0.001, max_bin=291, max_depth=6, n_estimators=350, nthread=1, reg_lambda=0.5665850173050143, subsample=0.7470874792153772;, score=-2.529 total time=  34.5s\n",
      "[CV 1/5] END colsample_bytree=0.8938463867019735, device=gpu, enable_categorical=True, eval_metric=rmse, learning_rate=0.01, max_bin=293, max_depth=6, n_estimators=350, nthread=1, reg_lambda=0.28833645178452627, subsample=0.6665811003714169;, score=-2.974 total time=  34.2s\n",
      "[CV 4/5] END colsample_bytree=0.9232867038314249, device=gpu, enable_categorical=True, eval_metric=rmse, learning_rate=0.001, max_bin=291, max_depth=6, n_estimators=350, nthread=1, reg_lambda=0.5665850173050143, subsample=0.7470874792153772;, score=-3.408 total time=  46.7s\n",
      "[CV 2/5] END colsample_bytree=0.8938463867019735, device=gpu, enable_categorical=True, eval_metric=rmse, learning_rate=0.01, max_bin=293, max_depth=6, n_estimators=350, nthread=1, reg_lambda=0.28833645178452627, subsample=0.6665811003714169;, score=-2.217 total time=  40.4s\n",
      "[CV 5/5] END colsample_bytree=0.9232867038314249, device=gpu, enable_categorical=True, eval_metric=rmse, learning_rate=0.001, max_bin=291, max_depth=6, n_estimators=350, nthread=1, reg_lambda=0.5665850173050143, subsample=0.7470874792153772;, score=-3.645 total time=  50.5s\n",
      "[CV 3/5] END colsample_bytree=0.8938463867019735, device=gpu, enable_categorical=True, eval_metric=rmse, learning_rate=0.01, max_bin=293, max_depth=6, n_estimators=350, nthread=1, reg_lambda=0.28833645178452627, subsample=0.6665811003714169;, score=-1.943 total time=  30.9s\n",
      "[CV 1/5] END colsample_bytree=0.8462560778077876, device=gpu, enable_categorical=True, eval_metric=rmse, learning_rate=0.1, max_bin=256, max_depth=3, n_estimators=250, nthread=1, reg_lambda=1.3237975691216417, subsample=0.7244995074977755;, score=-2.542 total time=  18.0s\n",
      "[CV 2/5] END colsample_bytree=0.8462560778077876, device=gpu, enable_categorical=True, eval_metric=rmse, learning_rate=0.1, max_bin=256, max_depth=3, n_estimators=250, nthread=1, reg_lambda=1.3237975691216417, subsample=0.7244995074977755;, score=-2.397 total time=  22.5s\n",
      "[CV 4/5] END colsample_bytree=0.8938463867019735, device=gpu, enable_categorical=True, eval_metric=rmse, learning_rate=0.01, max_bin=293, max_depth=6, n_estimators=350, nthread=1, reg_lambda=0.28833645178452627, subsample=0.6665811003714169;, score=-2.683 total time=  42.8s\n",
      "[CV 3/5] END colsample_bytree=0.8462560778077876, device=gpu, enable_categorical=True, eval_metric=rmse, learning_rate=0.1, max_bin=256, max_depth=3, n_estimators=250, nthread=1, reg_lambda=1.3237975691216417, subsample=0.7244995074977755;, score=-1.940 total time=  28.1s\n",
      "[CV 4/5] END colsample_bytree=0.8462560778077876, device=gpu, enable_categorical=True, eval_metric=rmse, learning_rate=0.1, max_bin=256, max_depth=3, n_estimators=250, nthread=1, reg_lambda=1.3237975691216417, subsample=0.7244995074977755;, score=-2.876 total time=  31.3s\n",
      "[CV 5/5] END colsample_bytree=0.8938463867019735, device=gpu, enable_categorical=True, eval_metric=rmse, learning_rate=0.01, max_bin=293, max_depth=6, n_estimators=350, nthread=1, reg_lambda=0.28833645178452627, subsample=0.6665811003714169;, score=-3.350 total time=  53.1s\n",
      "[CV 1/5] END colsample_bytree=0.8983207743775063, device=gpu, enable_categorical=True, eval_metric=rmse, learning_rate=0.003, max_bin=638, max_depth=3, n_estimators=250, nthread=1, reg_lambda=0.6399738959632969, subsample=0.9351265748467299;, score=-3.099 total time=  20.2s\n",
      "[CV 5/5] END colsample_bytree=0.8462560778077876, device=gpu, enable_categorical=True, eval_metric=rmse, learning_rate=0.1, max_bin=256, max_depth=3, n_estimators=250, nthread=1, reg_lambda=1.3237975691216417, subsample=0.7244995074977755;, score=-3.379 total time=  29.8s\n",
      "[CV 2/5] END colsample_bytree=0.8983207743775063, device=gpu, enable_categorical=True, eval_metric=rmse, learning_rate=0.003, max_bin=638, max_depth=3, n_estimators=250, nthread=1, reg_lambda=0.6399738959632969, subsample=0.9351265748467299;, score=-2.085 total time=  13.8s\n",
      "[CV 3/5] END colsample_bytree=0.8983207743775063, device=gpu, enable_categorical=True, eval_metric=rmse, learning_rate=0.003, max_bin=638, max_depth=3, n_estimators=250, nthread=1, reg_lambda=0.6399738959632969, subsample=0.9351265748467299;, score=-2.243 total time=  15.1s\n",
      "[CV 4/5] END colsample_bytree=0.8983207743775063, device=gpu, enable_categorical=True, eval_metric=rmse, learning_rate=0.003, max_bin=638, max_depth=3, n_estimators=250, nthread=1, reg_lambda=0.6399738959632969, subsample=0.9351265748467299;, score=-3.102 total time=  24.9s\n",
      "[CV 1/5] END colsample_bytree=0.7258559150757447, device=gpu, enable_categorical=True, eval_metric=rmse, learning_rate=0.001, max_bin=655, max_depth=6, n_estimators=350, nthread=1, reg_lambda=0.9066779236592476, subsample=0.7952893504317207;, score=-3.504 total time=  26.8s\n",
      "[CV 5/5] END colsample_bytree=0.8983207743775063, device=gpu, enable_categorical=True, eval_metric=rmse, learning_rate=0.003, max_bin=638, max_depth=3, n_estimators=250, nthread=1, reg_lambda=0.6399738959632969, subsample=0.9351265748467299;, score=-3.562 total time=  33.1s\n",
      "[CV 2/5] END colsample_bytree=0.7258559150757447, device=gpu, enable_categorical=True, eval_metric=rmse, learning_rate=0.001, max_bin=655, max_depth=6, n_estimators=350, nthread=1, reg_lambda=0.9066779236592476, subsample=0.7952893504317207;, score=-2.452 total time=  33.0s\n",
      "[CV 1/5] END colsample_bytree=0.6246220551660051, device=gpu, enable_categorical=True, eval_metric=rmse, learning_rate=0.1, max_bin=422, max_depth=4, n_estimators=50, nthread=1, reg_lambda=1.9356335464381658, subsample=0.9743318492024183;, score=-2.566 total time=   6.7s\n",
      "[CV 3/5] END colsample_bytree=0.7258559150757447, device=gpu, enable_categorical=True, eval_metric=rmse, learning_rate=0.001, max_bin=655, max_depth=6, n_estimators=350, nthread=1, reg_lambda=0.9066779236592476, subsample=0.7952893504317207;, score=-2.512 total time=  33.8s\n",
      "[CV 2/5] END colsample_bytree=0.6246220551660051, device=gpu, enable_categorical=True, eval_metric=rmse, learning_rate=0.1, max_bin=422, max_depth=4, n_estimators=50, nthread=1, reg_lambda=1.9356335464381658, subsample=0.9743318492024183;, score=-2.228 total time=  10.1s\n",
      "[CV 3/5] END colsample_bytree=0.6246220551660051, device=gpu, enable_categorical=True, eval_metric=rmse, learning_rate=0.1, max_bin=422, max_depth=4, n_estimators=50, nthread=1, reg_lambda=1.9356335464381658, subsample=0.9743318492024183;, score=-1.958 total time=  12.6s\n",
      "[CV 4/5] END colsample_bytree=0.7258559150757447, device=gpu, enable_categorical=True, eval_metric=rmse, learning_rate=0.001, max_bin=655, max_depth=6, n_estimators=350, nthread=1, reg_lambda=0.9066779236592476, subsample=0.7952893504317207;, score=-3.409 total time=  34.5s\n",
      "[CV 4/5] END colsample_bytree=0.6246220551660051, device=gpu, enable_categorical=True, eval_metric=rmse, learning_rate=0.1, max_bin=422, max_depth=4, n_estimators=50, nthread=1, reg_lambda=1.9356335464381658, subsample=0.9743318492024183;, score=-2.718 total time=  15.1s\n",
      "[CV 5/5] END colsample_bytree=0.6246220551660051, device=gpu, enable_categorical=True, eval_metric=rmse, learning_rate=0.1, max_bin=422, max_depth=4, n_estimators=50, nthread=1, reg_lambda=1.9356335464381658, subsample=0.9743318492024183;, score=-3.391 total time=  18.8s\n",
      "[CV 5/5] END colsample_bytree=0.7258559150757447, device=gpu, enable_categorical=True, eval_metric=rmse, learning_rate=0.001, max_bin=655, max_depth=6, n_estimators=350, nthread=1, reg_lambda=0.9066779236592476, subsample=0.7952893504317207;, score=-3.670 total time=  38.7s\n",
      "[CV 1/5] END colsample_bytree=0.7601912614192267, device=gpu, enable_categorical=True, eval_metric=rmse, learning_rate=0.3, max_bin=493, max_depth=4, n_estimators=350, nthread=1, reg_lambda=1.8223701942174448, subsample=0.9118417692614338;, score=-3.106 total time=  19.1s\n",
      "[CV 2/5] END colsample_bytree=0.7601912614192267, device=gpu, enable_categorical=True, eval_metric=rmse, learning_rate=0.3, max_bin=493, max_depth=4, n_estimators=350, nthread=1, reg_lambda=1.8223701942174448, subsample=0.9118417692614338;, score=-2.307 total time=  21.0s\n",
      "[CV 3/5] END colsample_bytree=0.7601912614192267, device=gpu, enable_categorical=True, eval_metric=rmse, learning_rate=0.3, max_bin=493, max_depth=4, n_estimators=350, nthread=1, reg_lambda=1.8223701942174448, subsample=0.9118417692614338;, score=-1.980 total time=  21.1s\n",
      "[CV 4/5] END colsample_bytree=0.7601912614192267, device=gpu, enable_categorical=True, eval_metric=rmse, learning_rate=0.3, max_bin=493, max_depth=4, n_estimators=350, nthread=1, reg_lambda=1.8223701942174448, subsample=0.9118417692614338;, score=-2.757 total time=  28.7s\n",
      "[CV 5/5] END colsample_bytree=0.7601912614192267, device=gpu, enable_categorical=True, eval_metric=rmse, learning_rate=0.3, max_bin=493, max_depth=4, n_estimators=350, nthread=1, reg_lambda=1.8223701942174448, subsample=0.9118417692614338;, score=-3.235 total time=  29.1s\n"
     ]
    }
   ],
   "source": [
    "cp.cuda.Device(0).use()\n",
    "X_train_gpu, y_train_gpu = cp.array(train_X).get(), cp.array(train_Y).get()\n",
    "search_param.fit(X_train_gpu, y_train_gpu)\n",
    "params_df = pd.DataFrame(search_param.cv_results_)\n",
    "params_df.to_csv('params.csv')"
   ]
  },
  {
   "cell_type": "markdown",
   "metadata": {},
   "source": [
    "Model's best param and best score"
   ]
  },
  {
   "cell_type": "code",
   "execution_count": 44,
   "metadata": {},
   "outputs": [
    {
     "name": "stdout",
     "output_type": "stream",
     "text": [
      "{'colsample_bytree': np.float64(0.7502054410654428), 'device': 'gpu', 'enable_categorical': True, 'eval_metric': 'rmse', 'learning_rate': np.float64(0.01), 'max_bin': 620, 'max_depth': 3, 'n_estimators': np.int64(350), 'nthread': 1, 'reg_lambda': np.float64(0.625650240649613), 'subsample': np.float64(0.9815879277600021)}\n",
      "-2.54263258976136\n"
     ]
    }
   ],
   "source": [
    "print(search_param.best_params_)\n",
    "print(search_param.best_score_)"
   ]
  },
  {
   "cell_type": "markdown",
   "metadata": {},
   "source": [
    "Training 10 best models using validation dataset."
   ]
  },
  {
   "cell_type": "code",
   "execution_count": 45,
   "metadata": {},
   "outputs": [
    {
     "name": "stderr",
     "output_type": "stream",
     "text": [
      "/home/cutia/anaconda3/envs/datanest/lib/python3.12/site-packages/xgboost/core.py:158: UserWarning: [02:54:02] WARNING: /workspace/src/common/error_msg.cc:58: Falling back to prediction using DMatrix due to mismatched devices. This might lead to higher memory usage and slower performance. XGBoost is running on: cuda:0, while the input data is on: cpu.\n",
      "Potential solutions:\n",
      "- Use a data structure that matches the device ordinal in the booster.\n",
      "- Set the device for booster before call to inplace_predict.\n",
      "\n",
      "This warning will only be shown once.\n",
      "\n",
      "  warnings.warn(smsg, UserWarning)\n"
     ]
    },
    {
     "name": "stdout",
     "output_type": "stream",
     "text": [
      "2.3782749877143776 1.9232170752446724\n",
      "2.3092797774953446 1.9012128890766158\n",
      "2.3045310538753556 2.101137804834288\n",
      "2.385559529995967 1.9150709122892686\n",
      "2.4299109671186976 2.0449863894625344\n",
      "2.508500304688142 1.9627426727727284\n",
      "2.403247273715523 1.8838172091340912\n",
      "2.3808781061710067 2.0029955901084557\n",
      "2.7336078950660925 1.9752256962342145\n",
      "2.4700196282161064 2.150098548759278\n",
      "Average RMSE: 2.4303809524056614 1.986050478791615\n"
     ]
    }
   ],
   "source": [
    "average_train_score = []\n",
    "average_val_score = []\n",
    "model_lst = []\n",
    "for i in range(1, 11):\n",
    "    param = params_df[params_df['rank_test_score']==i]['params'].values[0]\n",
    "    xgboost_model = XGBRegressor(**param, early_stopping_rounds=40)\n",
    "    eval_set = (val_X, val_Y)\n",
    "    model = xgboost_model.fit(train_X, train_Y, eval_set=[eval_set], verbose=False)\n",
    "    train_preds = model.predict(train_X)\n",
    "    val_preds = model.predict(val_X)\n",
    "    train_score = root_mean_squared_error(train_Y, np.clip(train_preds, 0, None).astype(np.int64))\n",
    "    val_score = root_mean_squared_error(val_Y, np.clip(val_preds, 0, None).astype(np.int64))\n",
    "    print(train_score, val_score)\n",
    "    average_train_score.append(train_score)\n",
    "    average_val_score.append(val_score)\n",
    "    model_lst.append(model)\n",
    "print('Average RMSE:', sum(average_train_score)/len(average_train_score), sum(average_val_score)/len(average_val_score))"
   ]
  },
  {
   "cell_type": "markdown",
   "metadata": {},
   "source": [
    "### Validation"
   ]
  },
  {
   "cell_type": "markdown",
   "metadata": {},
   "source": [
    "The model has the average RMSE on train as 2.43 and 1.99 on test. The best model is 7th one."
   ]
  },
  {
   "cell_type": "markdown",
   "metadata": {},
   "source": [
    "The feature importance of the best model. The item_cnt_month features of previous months have the most impact to model accuracy."
   ]
  },
  {
   "cell_type": "code",
   "execution_count": 46,
   "metadata": {},
   "outputs": [
    {
     "data": {
      "text/plain": [
       "<Axes: title={'center': 'Feature importance'}, xlabel='F score', ylabel='Features'>"
      ]
     },
     "execution_count": 46,
     "metadata": {},
     "output_type": "execute_result"
    },
    {
     "data": {
      "image/png": "[encoded data removed]",
      "text/plain": [
       "<Figure size 640x480 with 1 Axes>"
      ]
     },
     "metadata": {},
     "output_type": "display_data"
    }
   ],
   "source": [
    "plot_importance(model_lst[0])"
   ]
  },
  {
   "cell_type": "markdown",
   "metadata": {},
   "source": [
    "Update the predictions from the best models for the test set."
   ]
  },
  {
   "cell_type": "code",
   "execution_count": 47,
   "metadata": {},
   "outputs": [],
   "source": [
    "new_test_data = pd.read_csv('test.csv', index_col='ID')\n",
    "test_lst = []\n",
    "for i, model in enumerate(model_lst):\n",
    "    test_preds = model.predict(test_X)\n",
    "    test_preds = np.clip(test_preds, 0, None).astype(np.int64)\n",
    "    test_lst.append(test_preds)\n",
    "test_result = np.mean(np.stack(test_lst, axis=0), axis=0)\n",
    "new_test_data['item_cnt_month'] = np.clip(test_result, 0, None).astype(np.int64)\n",
    "new_test_data.to_csv('test.csv', index=True)"
   ]
  },
  {
   "cell_type": "markdown",
   "metadata": {},
   "source": [
    "Save 10 best models"
   ]
  },
  {
   "cell_type": "code",
   "execution_count": 49,
   "metadata": {},
   "outputs": [],
   "source": [
    "for i, model in enumerate(model_lst):\n",
    "    model.save_model(\"models/model_{}.json\".format(i))"
   ]
  }
 ],
 "metadata": {
  "kernelspec": {
   "display_name": "datanest",
   "language": "python",
   "name": "python3"
  },
  "language_info": {
   "codemirror_mode": {
    "name": "ipython",
    "version": 3
   },
   "file_extension": ".py",
   "mimetype": "text/x-python",
   "name": "python",
   "nbconvert_exporter": "python",
   "pygments_lexer": "ipython3",
   "version": "3.12.2"
  }
 },
 "nbformat": 4,
 "nbformat_minor": 2
}
